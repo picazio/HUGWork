{
  "nbformat": 4,
  "nbformat_minor": 0,
  "metadata": {
    "kernelspec": {
      "display_name": "Python 3",
      "language": "python",
      "name": "python3"
    },
    "language_info": {
      "codemirror_mode": {
        "name": "ipython",
        "version": 3
      },
      "file_extension": ".py",
      "mimetype": "text/x-python",
      "name": "python",
      "nbconvert_exporter": "python",
      "pygments_lexer": "ipython3",
      "version": "3.7.1"
    },
    "colab": {
      "name": "DataCleaning_FillEmptyFieldsWithPatientZeroData.ipynb",
      "provenance": [],
      "include_colab_link": true
    }
  },
  "cells": [
    {
      "cell_type": "markdown",
      "metadata": {
        "id": "view-in-github",
        "colab_type": "text"
      },
      "source": [
        "<a href=\"https://colab.research.google.com/github/picazio/HUGWork/blob/master/DataCleaning_FillEmptyFieldsWithPatientZeroData.ipynb\" target=\"_parent\"><img src=\"https://colab.research.google.com/assets/colab-badge.svg\" alt=\"Open In Colab\"/></a>"
      ]
    },
    {
      "cell_type": "markdown",
      "metadata": {
        "id": "rdsjEDDEXR6m",
        "colab_type": "text"
      },
      "source": [
        "Import all libraries"
      ]
    },
    {
      "cell_type": "code",
      "metadata": {
        "id": "rGFL6Kk9XR6n",
        "colab_type": "code",
        "colab": {}
      },
      "source": [
        "import pandas as pd\n",
        "import numpy as np\n",
        "from datetime import datetime,timedelta\n",
        "from sklearn.metrics import mean_squared_error\n",
        "from scipy.optimize import curve_fit\n",
        "from scipy.optimize import fsolve\n",
        "import matplotlib.pyplot as plt\n",
        "%matplotlib inline"
      ],
      "execution_count": 0,
      "outputs": []
    },
    {
      "cell_type": "markdown",
      "metadata": {
        "id": "FywzoikTXR6r",
        "colab_type": "text"
      },
      "source": [
        "Import dataframe and explore it"
      ]
    },
    {
      "cell_type": "code",
      "metadata": {
        "id": "3A3QSPQSXR6r",
        "colab_type": "code",
        "colab": {},
        "outputId": "0685ae35-b6af-496c-a888-b63005fd70c2"
      },
      "source": [
        "url=\"/Users/euclide/Desktop/update_data_29_04.xls\"\n",
        "df = pd.read_excel(io=url, sheet_name='Sheet1')\n",
        "\n",
        "df.head()"
      ],
      "execution_count": 0,
      "outputs": [
        {
          "output_type": "execute_result",
          "data": {
            "text/html": [
              "<div>\n",
              "<style scoped>\n",
              "    .dataframe tbody tr th:only-of-type {\n",
              "        vertical-align: middle;\n",
              "    }\n",
              "\n",
              "    .dataframe tbody tr th {\n",
              "        vertical-align: top;\n",
              "    }\n",
              "\n",
              "    .dataframe thead th {\n",
              "        text-align: right;\n",
              "    }\n",
              "</style>\n",
              "<table border=\"1\" class=\"dataframe\">\n",
              "  <thead>\n",
              "    <tr style=\"text-align: right;\">\n",
              "      <th></th>\n",
              "      <th>Codbar</th>\n",
              "      <th>age</th>\n",
              "      <th>date_birth</th>\n",
              "      <th>sex</th>\n",
              "      <th>rue1</th>\n",
              "      <th>ville</th>\n",
              "      <th>nip</th>\n",
              "      <th>pays</th>\n",
              "      <th>date_visit</th>\n",
              "      <th>IgA_Ratio</th>\n",
              "      <th>IgA_Résultat</th>\n",
              "      <th>IgG_Ratio</th>\n",
              "      <th>IgG_Résultat</th>\n",
              "      <th>date_lab</th>\n",
              "    </tr>\n",
              "  </thead>\n",
              "  <tbody>\n",
              "    <tr>\n",
              "      <th>0</th>\n",
              "      <td>12108131</td>\n",
              "      <td>59.0</td>\n",
              "      <td>1961-08-01</td>\n",
              "      <td>m</td>\n",
              "      <td>NaN</td>\n",
              "      <td>NaN</td>\n",
              "      <td>NaN</td>\n",
              "      <td>NaN</td>\n",
              "      <td>2020-04-03</td>\n",
              "      <td>0.221</td>\n",
              "      <td>NEG</td>\n",
              "      <td>0.202</td>\n",
              "      <td>NEG</td>\n",
              "      <td>2020-04-06</td>\n",
              "    </tr>\n",
              "    <tr>\n",
              "      <th>1</th>\n",
              "      <td>12108133</td>\n",
              "      <td>19.0</td>\n",
              "      <td>2001-02-01</td>\n",
              "      <td>m</td>\n",
              "      <td>NaN</td>\n",
              "      <td>NaN</td>\n",
              "      <td>NaN</td>\n",
              "      <td>NaN</td>\n",
              "      <td>2020-04-03</td>\n",
              "      <td>0.731</td>\n",
              "      <td>NEG</td>\n",
              "      <td>0.290</td>\n",
              "      <td>NEG</td>\n",
              "      <td>2020-04-06</td>\n",
              "    </tr>\n",
              "    <tr>\n",
              "      <th>2</th>\n",
              "      <td>41859912</td>\n",
              "      <td>24.0</td>\n",
              "      <td>1996-04-16</td>\n",
              "      <td>f</td>\n",
              "      <td>CHEMIN DU SAUT DU LOUP 1</td>\n",
              "      <td>CHENE BOURG</td>\n",
              "      <td>1225.0</td>\n",
              "      <td>NaN</td>\n",
              "      <td>2020-04-03</td>\n",
              "      <td>1.282</td>\n",
              "      <td>POS</td>\n",
              "      <td>0.231</td>\n",
              "      <td>NEG</td>\n",
              "      <td>2020-04-06</td>\n",
              "    </tr>\n",
              "    <tr>\n",
              "      <th>3</th>\n",
              "      <td>12108941</td>\n",
              "      <td>31.0</td>\n",
              "      <td>1989-01-16</td>\n",
              "      <td>f</td>\n",
              "      <td>NaN</td>\n",
              "      <td>NaN</td>\n",
              "      <td>NaN</td>\n",
              "      <td>NaN</td>\n",
              "      <td>NaT</td>\n",
              "      <td>0.416</td>\n",
              "      <td>NEG</td>\n",
              "      <td>0.166</td>\n",
              "      <td>NEG</td>\n",
              "      <td>2020-04-06</td>\n",
              "    </tr>\n",
              "    <tr>\n",
              "      <th>4</th>\n",
              "      <td>1610159</td>\n",
              "      <td>50.0</td>\n",
              "      <td>1969-10-26</td>\n",
              "      <td>m</td>\n",
              "      <td>CHEMIN DE L'EGLISE 5</td>\n",
              "      <td>BERNEX</td>\n",
              "      <td>1233.0</td>\n",
              "      <td>CH</td>\n",
              "      <td>2020-04-03</td>\n",
              "      <td>0.547</td>\n",
              "      <td>NEG</td>\n",
              "      <td>0.207</td>\n",
              "      <td>NEG</td>\n",
              "      <td>2020-04-06</td>\n",
              "    </tr>\n",
              "  </tbody>\n",
              "</table>\n",
              "</div>"
            ],
            "text/plain": [
              "     Codbar   age date_birth sex                      rue1        ville  \\\n",
              "0  12108131  59.0 1961-08-01   m                       NaN          NaN   \n",
              "1  12108133  19.0 2001-02-01   m                       NaN          NaN   \n",
              "2  41859912  24.0 1996-04-16   f  CHEMIN DU SAUT DU LOUP 1  CHENE BOURG   \n",
              "3  12108941  31.0 1989-01-16   f                       NaN          NaN   \n",
              "4   1610159  50.0 1969-10-26   m      CHEMIN DE L'EGLISE 5       BERNEX   \n",
              "\n",
              "      nip pays date_visit  IgA_Ratio IgA_Résultat  IgG_Ratio IgG_Résultat  \\\n",
              "0     NaN  NaN 2020-04-03      0.221          NEG      0.202          NEG   \n",
              "1     NaN  NaN 2020-04-03      0.731          NEG      0.290          NEG   \n",
              "2  1225.0  NaN 2020-04-03      1.282          POS      0.231          NEG   \n",
              "3     NaN  NaN        NaT      0.416          NEG      0.166          NEG   \n",
              "4  1233.0   CH 2020-04-03      0.547          NEG      0.207          NEG   \n",
              "\n",
              "    date_lab  \n",
              "0 2020-04-06  \n",
              "1 2020-04-06  \n",
              "2 2020-04-06  \n",
              "3 2020-04-06  \n",
              "4 2020-04-06  "
            ]
          },
          "metadata": {
            "tags": []
          },
          "execution_count": 28
        }
      ]
    },
    {
      "cell_type": "markdown",
      "metadata": {
        "id": "cfjfpIXzXR6v",
        "colab_type": "text"
      },
      "source": [
        "Make the upper case of the address\n",
        "\n"
      ]
    },
    {
      "cell_type": "code",
      "metadata": {
        "id": "M-alForGXR6w",
        "colab_type": "code",
        "colab": {}
      },
      "source": [
        "#df['rue1_correct']=df['rue1'].apply(lambda x: str(x).upper())\n",
        "df['rue1']=df['rue1'].apply(lambda x: str(x).upper())"
      ],
      "execution_count": 0,
      "outputs": []
    },
    {
      "cell_type": "markdown",
      "metadata": {
        "id": "IGmgMH2DXR6z",
        "colab_type": "text"
      },
      "source": [
        "Shift house number to the end of the address"
      ]
    },
    {
      "cell_type": "code",
      "metadata": {
        "id": "CjqQIa_FXR6z",
        "colab_type": "code",
        "colab": {}
      },
      "source": [
        "def shift_hnumber(address) :\n",
        "    tokens=address.split(' ')\n",
        "    hn=''\n",
        "    indexhn=0\n",
        "    newAddress=''\n",
        "    ntokens=0\n",
        "    for itok,tok in enumerate(tokens) :\n",
        "        if any(map(str.isdigit, tok)) :\n",
        "            hn=tok\n",
        "            indexhn=itok\n",
        "    if len(tokens)-1!=indexhn :\n",
        "        if len(tokens[indexhn+1])==1 or tokens[indexhn+1]=='BIS' :\n",
        "            hn=hn+tokens[indexhn+1]\n",
        "            ntokens=2\n",
        "    for itok,tok in enumerate(tokens):\n",
        "        if (itok==indexhn) or (ntokens==2 and itok==indexhn+1) :\n",
        "            continue\n",
        "        newAddress=newAddress+tok+' '\n",
        "    return newAddress+hn"
      ],
      "execution_count": 0,
      "outputs": []
    },
    {
      "cell_type": "markdown",
      "metadata": {
        "id": "H51PQaHzXR63",
        "colab_type": "text"
      },
      "source": [
        "Remove any commas from the address"
      ]
    },
    {
      "cell_type": "code",
      "metadata": {
        "id": "L61C9ZoKXR64",
        "colab_type": "code",
        "colab": {}
      },
      "source": [
        "#df['rue1_correct']=df['rue1'].apply(lambda x: ''.join(str(x).split(',')))\n",
        "df['rue1']=df['rue1'].apply(lambda x: ''.join(str(x).split(',')))"
      ],
      "execution_count": 0,
      "outputs": []
    },
    {
      "cell_type": "markdown",
      "metadata": {
        "id": "2fKmGHGeXR66",
        "colab_type": "text"
      },
      "source": [
        "Swap the position of the house number at the end of the address"
      ]
    },
    {
      "cell_type": "code",
      "metadata": {
        "id": "VrKF7zOrXR67",
        "colab_type": "code",
        "colab": {}
      },
      "source": [
        "#df['rue1_correct']=df['rue1_correct'].apply(lambda x: shift_hnumber(str(x)))\n",
        "df['rue1']=df['rue1'].apply(lambda x: shift_hnumber(str(x)))"
      ],
      "execution_count": 0,
      "outputs": []
    },
    {
      "cell_type": "markdown",
      "metadata": {
        "id": "hCEQ3iimXR6-",
        "colab_type": "text"
      },
      "source": [
        "Change 'AV' in 'AVENUE'"
      ]
    },
    {
      "cell_type": "code",
      "metadata": {
        "id": "ri7iF65QXR6_",
        "colab_type": "code",
        "colab": {}
      },
      "source": [
        "df['rue1']=df['rue1'].apply(lambda x: 'AVENUE'.join(str(x).split('AV ')) if str(x).split(' ')[0]=='AV' else str(x))"
      ],
      "execution_count": 0,
      "outputs": []
    },
    {
      "cell_type": "code",
      "metadata": {
        "id": "ZtDnI89wXR7C",
        "colab_type": "code",
        "colab": {},
        "outputId": "f6f1f5ea-7e3f-45f1-f106-409ab83f5ee3"
      },
      "source": [
        "df['rue1'].tail()"
      ],
      "execution_count": 0,
      "outputs": [
        {
          "output_type": "execute_result",
          "data": {
            "text/plain": [
              "1403       CHEMIN DES VERJUS 113A\n",
              "1404          RUE DE L ATHENEE 40\n",
              "1405    ROUTE DU MOULIN ROGET 43A\n",
              "1406           RUE DE CANDOLLE 18\n",
              "1407            RUE ROTHSCHILD 27\n",
              "Name: rue1, dtype: object"
            ]
          },
          "metadata": {
            "tags": []
          },
          "execution_count": 8
        }
      ]
    },
    {
      "cell_type": "markdown",
      "metadata": {
        "id": "Var21WTFXR7E",
        "colab_type": "text"
      },
      "source": [
        "Now let's add the household_id column"
      ]
    },
    {
      "cell_type": "code",
      "metadata": {
        "id": "O8YyFMCNXR7F",
        "colab_type": "code",
        "colab": {}
      },
      "source": [
        "def create_households(x) :\n",
        "    listold=['11','21','31']\n",
        "    listold2=['410','411']\n",
        "    if len(str(x))==6 :\n",
        "        return str(x)\n",
        "    elif (any(c in str(x)[:2] for c in listold) and len(str(x))==7) :\n",
        "        return str(x)[:-1]\n",
        "    elif len(str(x))==8 :\n",
        "        return str(x)[:-1]\n",
        "    elif (any(c in str(x)[:3] for c in listold2) and len(str(x))==7) :\n",
        "        return str(x)[:-1]\n",
        "    else :\n",
        "        return str(x)"
      ],
      "execution_count": 0,
      "outputs": []
    },
    {
      "cell_type": "code",
      "metadata": {
        "id": "_V3O9USaXR7I",
        "colab_type": "code",
        "colab": {}
      },
      "source": [
        "df['Household_id']=df['Codbar'].apply(lambda x: create_households(x))\n",
        "df['nr_personnes']=df['Household_id'].map(df['Household_id'].value_counts())"
      ],
      "execution_count": 0,
      "outputs": []
    },
    {
      "cell_type": "markdown",
      "metadata": {
        "id": "uNUlt1r3XR7L",
        "colab_type": "text"
      },
      "source": [
        "Inspect the result"
      ]
    },
    {
      "cell_type": "code",
      "metadata": {
        "id": "8Zrz6hiFXR7M",
        "colab_type": "code",
        "colab": {},
        "outputId": "5dd1bde4-d458-4f3f-b13f-24baae2b5d64"
      },
      "source": [
        "df.head()"
      ],
      "execution_count": 0,
      "outputs": [
        {
          "output_type": "execute_result",
          "data": {
            "text/html": [
              "<div>\n",
              "<style scoped>\n",
              "    .dataframe tbody tr th:only-of-type {\n",
              "        vertical-align: middle;\n",
              "    }\n",
              "\n",
              "    .dataframe tbody tr th {\n",
              "        vertical-align: top;\n",
              "    }\n",
              "\n",
              "    .dataframe thead th {\n",
              "        text-align: right;\n",
              "    }\n",
              "</style>\n",
              "<table border=\"1\" class=\"dataframe\">\n",
              "  <thead>\n",
              "    <tr style=\"text-align: right;\">\n",
              "      <th></th>\n",
              "      <th>Codbar</th>\n",
              "      <th>age</th>\n",
              "      <th>date_birth</th>\n",
              "      <th>sex</th>\n",
              "      <th>rue1</th>\n",
              "      <th>ville</th>\n",
              "      <th>nip</th>\n",
              "      <th>pays</th>\n",
              "      <th>date_visit</th>\n",
              "      <th>IgA_Ratio</th>\n",
              "      <th>IgA_Résultat</th>\n",
              "      <th>IgG_Ratio</th>\n",
              "      <th>IgG_Résultat</th>\n",
              "      <th>date_lab</th>\n",
              "      <th>Household_id</th>\n",
              "      <th>nr_personnes</th>\n",
              "    </tr>\n",
              "  </thead>\n",
              "  <tbody>\n",
              "    <tr>\n",
              "      <th>0</th>\n",
              "      <td>12108131</td>\n",
              "      <td>59.0</td>\n",
              "      <td>1961-08-01</td>\n",
              "      <td>m</td>\n",
              "      <td></td>\n",
              "      <td>NaN</td>\n",
              "      <td>NaN</td>\n",
              "      <td>NaN</td>\n",
              "      <td>2020-04-03</td>\n",
              "      <td>0.221</td>\n",
              "      <td>NEG</td>\n",
              "      <td>0.202</td>\n",
              "      <td>NEG</td>\n",
              "      <td>2020-04-06</td>\n",
              "      <td>1210813</td>\n",
              "      <td>4</td>\n",
              "    </tr>\n",
              "    <tr>\n",
              "      <th>1</th>\n",
              "      <td>12108133</td>\n",
              "      <td>19.0</td>\n",
              "      <td>2001-02-01</td>\n",
              "      <td>m</td>\n",
              "      <td></td>\n",
              "      <td>NaN</td>\n",
              "      <td>NaN</td>\n",
              "      <td>NaN</td>\n",
              "      <td>2020-04-03</td>\n",
              "      <td>0.731</td>\n",
              "      <td>NEG</td>\n",
              "      <td>0.290</td>\n",
              "      <td>NEG</td>\n",
              "      <td>2020-04-06</td>\n",
              "      <td>1210813</td>\n",
              "      <td>4</td>\n",
              "    </tr>\n",
              "    <tr>\n",
              "      <th>2</th>\n",
              "      <td>41859912</td>\n",
              "      <td>24.0</td>\n",
              "      <td>1996-04-16</td>\n",
              "      <td>f</td>\n",
              "      <td>CHEMIN DU SAUT DU LOUP 1</td>\n",
              "      <td>CHENE BOURG</td>\n",
              "      <td>1225.0</td>\n",
              "      <td>NaN</td>\n",
              "      <td>2020-04-03</td>\n",
              "      <td>1.282</td>\n",
              "      <td>POS</td>\n",
              "      <td>0.231</td>\n",
              "      <td>NEG</td>\n",
              "      <td>2020-04-06</td>\n",
              "      <td>4185991</td>\n",
              "      <td>3</td>\n",
              "    </tr>\n",
              "    <tr>\n",
              "      <th>3</th>\n",
              "      <td>12108941</td>\n",
              "      <td>31.0</td>\n",
              "      <td>1989-01-16</td>\n",
              "      <td>f</td>\n",
              "      <td></td>\n",
              "      <td>NaN</td>\n",
              "      <td>NaN</td>\n",
              "      <td>NaN</td>\n",
              "      <td>NaT</td>\n",
              "      <td>0.416</td>\n",
              "      <td>NEG</td>\n",
              "      <td>0.166</td>\n",
              "      <td>NEG</td>\n",
              "      <td>2020-04-06</td>\n",
              "      <td>1210894</td>\n",
              "      <td>2</td>\n",
              "    </tr>\n",
              "    <tr>\n",
              "      <th>4</th>\n",
              "      <td>1610159</td>\n",
              "      <td>50.0</td>\n",
              "      <td>1969-10-26</td>\n",
              "      <td>m</td>\n",
              "      <td>CHEMIN DE L'EGLISE 5</td>\n",
              "      <td>BERNEX</td>\n",
              "      <td>1233.0</td>\n",
              "      <td>CH</td>\n",
              "      <td>2020-04-03</td>\n",
              "      <td>0.547</td>\n",
              "      <td>NEG</td>\n",
              "      <td>0.207</td>\n",
              "      <td>NEG</td>\n",
              "      <td>2020-04-06</td>\n",
              "      <td>1610159</td>\n",
              "      <td>5</td>\n",
              "    </tr>\n",
              "  </tbody>\n",
              "</table>\n",
              "</div>"
            ],
            "text/plain": [
              "     Codbar   age date_birth sex                      rue1        ville  \\\n",
              "0  12108131  59.0 1961-08-01   m                                    NaN   \n",
              "1  12108133  19.0 2001-02-01   m                                    NaN   \n",
              "2  41859912  24.0 1996-04-16   f  CHEMIN DU SAUT DU LOUP 1  CHENE BOURG   \n",
              "3  12108941  31.0 1989-01-16   f                                    NaN   \n",
              "4   1610159  50.0 1969-10-26   m      CHEMIN DE L'EGLISE 5       BERNEX   \n",
              "\n",
              "      nip pays date_visit  IgA_Ratio IgA_Résultat  IgG_Ratio IgG_Résultat  \\\n",
              "0     NaN  NaN 2020-04-03      0.221          NEG      0.202          NEG   \n",
              "1     NaN  NaN 2020-04-03      0.731          NEG      0.290          NEG   \n",
              "2  1225.0  NaN 2020-04-03      1.282          POS      0.231          NEG   \n",
              "3     NaN  NaN        NaT      0.416          NEG      0.166          NEG   \n",
              "4  1233.0   CH 2020-04-03      0.547          NEG      0.207          NEG   \n",
              "\n",
              "    date_lab Household_id  nr_personnes  \n",
              "0 2020-04-06      1210813             4  \n",
              "1 2020-04-06      1210813             4  \n",
              "2 2020-04-06      4185991             3  \n",
              "3 2020-04-06      1210894             2  \n",
              "4 2020-04-06      1610159             5  "
            ]
          },
          "metadata": {
            "tags": []
          },
          "execution_count": 14
        }
      ]
    },
    {
      "cell_type": "code",
      "metadata": {
        "id": "hskYdB9IXR7O",
        "colab_type": "code",
        "colab": {},
        "outputId": "469f9b5d-a316-4989-b644-a32045fc182b"
      },
      "source": [
        "df.isnull().sum()"
      ],
      "execution_count": 0,
      "outputs": [
        {
          "output_type": "execute_result",
          "data": {
            "text/plain": [
              "Codbar           0\n",
              "age              2\n",
              "date_birth       2\n",
              "sex              2\n",
              "rue1             0\n",
              "ville           30\n",
              "nip             32\n",
              "pays            59\n",
              "date_visit      72\n",
              "IgA_Ratio        0\n",
              "IgA_Résultat     0\n",
              "IgG_Ratio        0\n",
              "IgG_Résultat     0\n",
              "date_lab         0\n",
              "Household_id     0\n",
              "nr_personnes     0\n",
              "dtype: int64"
            ]
          },
          "metadata": {
            "tags": []
          },
          "execution_count": 15
        }
      ]
    },
    {
      "cell_type": "code",
      "metadata": {
        "id": "PymAR9RBXR7S",
        "colab_type": "code",
        "colab": {},
        "outputId": "5805afce-430b-42c1-a1fd-72ca54e98ef7"
      },
      "source": [
        "#this to accunt for missing values that are not NaN\n",
        "print(df[df['rue1']==''].shape[0])"
      ],
      "execution_count": 0,
      "outputs": [
        {
          "output_type": "stream",
          "text": [
            "0\n"
          ],
          "name": "stdout"
        }
      ]
    },
    {
      "cell_type": "markdown",
      "metadata": {
        "id": "DnYDGTIVXR7U",
        "colab_type": "text"
      },
      "source": [
        "The following code is going to work only with a correct ordering of the df"
      ]
    },
    {
      "cell_type": "code",
      "metadata": {
        "id": "2zEj9PF-XR7V",
        "colab_type": "code",
        "colab": {},
        "outputId": "26d78348-05a0-4107-b515-ae702327b3d6"
      },
      "source": [
        "df['support_codbar']=df.apply(lambda x: str(x.Codbar)+'0' if str(x.Codbar)==str(x.Household_id) else str(x.Codbar), axis=1)\n",
        "df=df.sort_values(by=['support_codbar'])\n",
        "df.head()"
      ],
      "execution_count": 0,
      "outputs": [
        {
          "output_type": "error",
          "ename": "AttributeError",
          "evalue": "(\"'Series' object has no attribute 'Household_id'\", 'occurred at index 0')",
          "traceback": [
            "\u001b[0;31m---------------------------------------------------------------------------\u001b[0m",
            "\u001b[0;31mAttributeError\u001b[0m                            Traceback (most recent call last)",
            "\u001b[0;32m<ipython-input-30-c4067b57d225>\u001b[0m in \u001b[0;36m<module>\u001b[0;34m\u001b[0m\n\u001b[0;32m----> 1\u001b[0;31m \u001b[0mdf\u001b[0m\u001b[0;34m[\u001b[0m\u001b[0;34m'support_codbar'\u001b[0m\u001b[0;34m]\u001b[0m\u001b[0;34m=\u001b[0m\u001b[0mdf\u001b[0m\u001b[0;34m.\u001b[0m\u001b[0mapply\u001b[0m\u001b[0;34m(\u001b[0m\u001b[0;32mlambda\u001b[0m \u001b[0mx\u001b[0m\u001b[0;34m:\u001b[0m \u001b[0mstr\u001b[0m\u001b[0;34m(\u001b[0m\u001b[0mx\u001b[0m\u001b[0;34m.\u001b[0m\u001b[0mCodbar\u001b[0m\u001b[0;34m)\u001b[0m\u001b[0;34m+\u001b[0m\u001b[0;34m'0'\u001b[0m \u001b[0;32mif\u001b[0m \u001b[0mstr\u001b[0m\u001b[0;34m(\u001b[0m\u001b[0mx\u001b[0m\u001b[0;34m.\u001b[0m\u001b[0mCodbar\u001b[0m\u001b[0;34m)\u001b[0m\u001b[0;34m==\u001b[0m\u001b[0mstr\u001b[0m\u001b[0;34m(\u001b[0m\u001b[0mx\u001b[0m\u001b[0;34m.\u001b[0m\u001b[0mHousehold_id\u001b[0m\u001b[0;34m)\u001b[0m \u001b[0;32melse\u001b[0m \u001b[0mstr\u001b[0m\u001b[0;34m(\u001b[0m\u001b[0mx\u001b[0m\u001b[0;34m.\u001b[0m\u001b[0mCodbar\u001b[0m\u001b[0;34m)\u001b[0m\u001b[0;34m,\u001b[0m \u001b[0maxis\u001b[0m\u001b[0;34m=\u001b[0m\u001b[0;36m1\u001b[0m\u001b[0;34m)\u001b[0m\u001b[0;34m\u001b[0m\u001b[0;34m\u001b[0m\u001b[0m\n\u001b[0m\u001b[1;32m      2\u001b[0m \u001b[0mdf\u001b[0m\u001b[0;34m=\u001b[0m\u001b[0mdf\u001b[0m\u001b[0;34m.\u001b[0m\u001b[0msort_values\u001b[0m\u001b[0;34m(\u001b[0m\u001b[0mby\u001b[0m\u001b[0;34m=\u001b[0m\u001b[0;34m[\u001b[0m\u001b[0;34m'support_codbar'\u001b[0m\u001b[0;34m]\u001b[0m\u001b[0;34m)\u001b[0m\u001b[0;34m\u001b[0m\u001b[0;34m\u001b[0m\u001b[0m\n\u001b[1;32m      3\u001b[0m \u001b[0mdf\u001b[0m\u001b[0;34m.\u001b[0m\u001b[0mhead\u001b[0m\u001b[0;34m(\u001b[0m\u001b[0;34m)\u001b[0m\u001b[0;34m\u001b[0m\u001b[0;34m\u001b[0m\u001b[0m\n",
            "\u001b[0;32m~/anaconda3/lib/python3.7/site-packages/pandas/core/frame.py\u001b[0m in \u001b[0;36mapply\u001b[0;34m(self, func, axis, broadcast, raw, reduce, result_type, args, **kwds)\u001b[0m\n\u001b[1;32m   6012\u001b[0m                          \u001b[0margs\u001b[0m\u001b[0;34m=\u001b[0m\u001b[0margs\u001b[0m\u001b[0;34m,\u001b[0m\u001b[0;34m\u001b[0m\u001b[0;34m\u001b[0m\u001b[0m\n\u001b[1;32m   6013\u001b[0m                          kwds=kwds)\n\u001b[0;32m-> 6014\u001b[0;31m         \u001b[0;32mreturn\u001b[0m \u001b[0mop\u001b[0m\u001b[0;34m.\u001b[0m\u001b[0mget_result\u001b[0m\u001b[0;34m(\u001b[0m\u001b[0;34m)\u001b[0m\u001b[0;34m\u001b[0m\u001b[0;34m\u001b[0m\u001b[0m\n\u001b[0m\u001b[1;32m   6015\u001b[0m \u001b[0;34m\u001b[0m\u001b[0m\n\u001b[1;32m   6016\u001b[0m     \u001b[0;32mdef\u001b[0m \u001b[0mapplymap\u001b[0m\u001b[0;34m(\u001b[0m\u001b[0mself\u001b[0m\u001b[0;34m,\u001b[0m \u001b[0mfunc\u001b[0m\u001b[0;34m)\u001b[0m\u001b[0;34m:\u001b[0m\u001b[0;34m\u001b[0m\u001b[0;34m\u001b[0m\u001b[0m\n",
            "\u001b[0;32m~/anaconda3/lib/python3.7/site-packages/pandas/core/apply.py\u001b[0m in \u001b[0;36mget_result\u001b[0;34m(self)\u001b[0m\n\u001b[1;32m    140\u001b[0m             \u001b[0;32mreturn\u001b[0m \u001b[0mself\u001b[0m\u001b[0;34m.\u001b[0m\u001b[0mapply_raw\u001b[0m\u001b[0;34m(\u001b[0m\u001b[0;34m)\u001b[0m\u001b[0;34m\u001b[0m\u001b[0;34m\u001b[0m\u001b[0m\n\u001b[1;32m    141\u001b[0m \u001b[0;34m\u001b[0m\u001b[0m\n\u001b[0;32m--> 142\u001b[0;31m         \u001b[0;32mreturn\u001b[0m \u001b[0mself\u001b[0m\u001b[0;34m.\u001b[0m\u001b[0mapply_standard\u001b[0m\u001b[0;34m(\u001b[0m\u001b[0;34m)\u001b[0m\u001b[0;34m\u001b[0m\u001b[0;34m\u001b[0m\u001b[0m\n\u001b[0m\u001b[1;32m    143\u001b[0m \u001b[0;34m\u001b[0m\u001b[0m\n\u001b[1;32m    144\u001b[0m     \u001b[0;32mdef\u001b[0m \u001b[0mapply_empty_result\u001b[0m\u001b[0;34m(\u001b[0m\u001b[0mself\u001b[0m\u001b[0;34m)\u001b[0m\u001b[0;34m:\u001b[0m\u001b[0;34m\u001b[0m\u001b[0;34m\u001b[0m\u001b[0m\n",
            "\u001b[0;32m~/anaconda3/lib/python3.7/site-packages/pandas/core/apply.py\u001b[0m in \u001b[0;36mapply_standard\u001b[0;34m(self)\u001b[0m\n\u001b[1;32m    246\u001b[0m \u001b[0;34m\u001b[0m\u001b[0m\n\u001b[1;32m    247\u001b[0m         \u001b[0;31m# compute the result using the series generator\u001b[0m\u001b[0;34m\u001b[0m\u001b[0;34m\u001b[0m\u001b[0;34m\u001b[0m\u001b[0m\n\u001b[0;32m--> 248\u001b[0;31m         \u001b[0mself\u001b[0m\u001b[0;34m.\u001b[0m\u001b[0mapply_series_generator\u001b[0m\u001b[0;34m(\u001b[0m\u001b[0;34m)\u001b[0m\u001b[0;34m\u001b[0m\u001b[0;34m\u001b[0m\u001b[0m\n\u001b[0m\u001b[1;32m    249\u001b[0m \u001b[0;34m\u001b[0m\u001b[0m\n\u001b[1;32m    250\u001b[0m         \u001b[0;31m# wrap results\u001b[0m\u001b[0;34m\u001b[0m\u001b[0;34m\u001b[0m\u001b[0;34m\u001b[0m\u001b[0m\n",
            "\u001b[0;32m~/anaconda3/lib/python3.7/site-packages/pandas/core/apply.py\u001b[0m in \u001b[0;36mapply_series_generator\u001b[0;34m(self)\u001b[0m\n\u001b[1;32m    275\u001b[0m             \u001b[0;32mtry\u001b[0m\u001b[0;34m:\u001b[0m\u001b[0;34m\u001b[0m\u001b[0;34m\u001b[0m\u001b[0m\n\u001b[1;32m    276\u001b[0m                 \u001b[0;32mfor\u001b[0m \u001b[0mi\u001b[0m\u001b[0;34m,\u001b[0m \u001b[0mv\u001b[0m \u001b[0;32min\u001b[0m \u001b[0menumerate\u001b[0m\u001b[0;34m(\u001b[0m\u001b[0mseries_gen\u001b[0m\u001b[0;34m)\u001b[0m\u001b[0;34m:\u001b[0m\u001b[0;34m\u001b[0m\u001b[0;34m\u001b[0m\u001b[0m\n\u001b[0;32m--> 277\u001b[0;31m                     \u001b[0mresults\u001b[0m\u001b[0;34m[\u001b[0m\u001b[0mi\u001b[0m\u001b[0;34m]\u001b[0m \u001b[0;34m=\u001b[0m \u001b[0mself\u001b[0m\u001b[0;34m.\u001b[0m\u001b[0mf\u001b[0m\u001b[0;34m(\u001b[0m\u001b[0mv\u001b[0m\u001b[0;34m)\u001b[0m\u001b[0;34m\u001b[0m\u001b[0;34m\u001b[0m\u001b[0m\n\u001b[0m\u001b[1;32m    278\u001b[0m                     \u001b[0mkeys\u001b[0m\u001b[0;34m.\u001b[0m\u001b[0mappend\u001b[0m\u001b[0;34m(\u001b[0m\u001b[0mv\u001b[0m\u001b[0;34m.\u001b[0m\u001b[0mname\u001b[0m\u001b[0;34m)\u001b[0m\u001b[0;34m\u001b[0m\u001b[0;34m\u001b[0m\u001b[0m\n\u001b[1;32m    279\u001b[0m             \u001b[0;32mexcept\u001b[0m \u001b[0mException\u001b[0m \u001b[0;32mas\u001b[0m \u001b[0me\u001b[0m\u001b[0;34m:\u001b[0m\u001b[0;34m\u001b[0m\u001b[0;34m\u001b[0m\u001b[0m\n",
            "\u001b[0;32m<ipython-input-30-c4067b57d225>\u001b[0m in \u001b[0;36m<lambda>\u001b[0;34m(x)\u001b[0m\n\u001b[0;32m----> 1\u001b[0;31m \u001b[0mdf\u001b[0m\u001b[0;34m[\u001b[0m\u001b[0;34m'support_codbar'\u001b[0m\u001b[0;34m]\u001b[0m\u001b[0;34m=\u001b[0m\u001b[0mdf\u001b[0m\u001b[0;34m.\u001b[0m\u001b[0mapply\u001b[0m\u001b[0;34m(\u001b[0m\u001b[0;32mlambda\u001b[0m \u001b[0mx\u001b[0m\u001b[0;34m:\u001b[0m \u001b[0mstr\u001b[0m\u001b[0;34m(\u001b[0m\u001b[0mx\u001b[0m\u001b[0;34m.\u001b[0m\u001b[0mCodbar\u001b[0m\u001b[0;34m)\u001b[0m\u001b[0;34m+\u001b[0m\u001b[0;34m'0'\u001b[0m \u001b[0;32mif\u001b[0m \u001b[0mstr\u001b[0m\u001b[0;34m(\u001b[0m\u001b[0mx\u001b[0m\u001b[0;34m.\u001b[0m\u001b[0mCodbar\u001b[0m\u001b[0;34m)\u001b[0m\u001b[0;34m==\u001b[0m\u001b[0mstr\u001b[0m\u001b[0;34m(\u001b[0m\u001b[0mx\u001b[0m\u001b[0;34m.\u001b[0m\u001b[0mHousehold_id\u001b[0m\u001b[0;34m)\u001b[0m \u001b[0;32melse\u001b[0m \u001b[0mstr\u001b[0m\u001b[0;34m(\u001b[0m\u001b[0mx\u001b[0m\u001b[0;34m.\u001b[0m\u001b[0mCodbar\u001b[0m\u001b[0;34m)\u001b[0m\u001b[0;34m,\u001b[0m \u001b[0maxis\u001b[0m\u001b[0;34m=\u001b[0m\u001b[0;36m1\u001b[0m\u001b[0;34m)\u001b[0m\u001b[0;34m\u001b[0m\u001b[0;34m\u001b[0m\u001b[0m\n\u001b[0m\u001b[1;32m      2\u001b[0m \u001b[0mdf\u001b[0m\u001b[0;34m=\u001b[0m\u001b[0mdf\u001b[0m\u001b[0;34m.\u001b[0m\u001b[0msort_values\u001b[0m\u001b[0;34m(\u001b[0m\u001b[0mby\u001b[0m\u001b[0;34m=\u001b[0m\u001b[0;34m[\u001b[0m\u001b[0;34m'support_codbar'\u001b[0m\u001b[0;34m]\u001b[0m\u001b[0;34m)\u001b[0m\u001b[0;34m\u001b[0m\u001b[0;34m\u001b[0m\u001b[0m\n\u001b[1;32m      3\u001b[0m \u001b[0mdf\u001b[0m\u001b[0;34m.\u001b[0m\u001b[0mhead\u001b[0m\u001b[0;34m(\u001b[0m\u001b[0;34m)\u001b[0m\u001b[0;34m\u001b[0m\u001b[0;34m\u001b[0m\u001b[0m\n",
            "\u001b[0;32m~/anaconda3/lib/python3.7/site-packages/pandas/core/generic.py\u001b[0m in \u001b[0;36m__getattr__\u001b[0;34m(self, name)\u001b[0m\n\u001b[1;32m   4374\u001b[0m             \u001b[0;32mif\u001b[0m \u001b[0mself\u001b[0m\u001b[0;34m.\u001b[0m\u001b[0m_info_axis\u001b[0m\u001b[0;34m.\u001b[0m\u001b[0m_can_hold_identifiers_and_holds_name\u001b[0m\u001b[0;34m(\u001b[0m\u001b[0mname\u001b[0m\u001b[0;34m)\u001b[0m\u001b[0;34m:\u001b[0m\u001b[0;34m\u001b[0m\u001b[0;34m\u001b[0m\u001b[0m\n\u001b[1;32m   4375\u001b[0m                 \u001b[0;32mreturn\u001b[0m \u001b[0mself\u001b[0m\u001b[0;34m[\u001b[0m\u001b[0mname\u001b[0m\u001b[0;34m]\u001b[0m\u001b[0;34m\u001b[0m\u001b[0;34m\u001b[0m\u001b[0m\n\u001b[0;32m-> 4376\u001b[0;31m             \u001b[0;32mreturn\u001b[0m \u001b[0mobject\u001b[0m\u001b[0;34m.\u001b[0m\u001b[0m__getattribute__\u001b[0m\u001b[0;34m(\u001b[0m\u001b[0mself\u001b[0m\u001b[0;34m,\u001b[0m \u001b[0mname\u001b[0m\u001b[0;34m)\u001b[0m\u001b[0;34m\u001b[0m\u001b[0;34m\u001b[0m\u001b[0m\n\u001b[0m\u001b[1;32m   4377\u001b[0m \u001b[0;34m\u001b[0m\u001b[0m\n\u001b[1;32m   4378\u001b[0m     \u001b[0;32mdef\u001b[0m \u001b[0m__setattr__\u001b[0m\u001b[0;34m(\u001b[0m\u001b[0mself\u001b[0m\u001b[0;34m,\u001b[0m \u001b[0mname\u001b[0m\u001b[0;34m,\u001b[0m \u001b[0mvalue\u001b[0m\u001b[0;34m)\u001b[0m\u001b[0;34m:\u001b[0m\u001b[0;34m\u001b[0m\u001b[0;34m\u001b[0m\u001b[0m\n",
            "\u001b[0;31mAttributeError\u001b[0m: (\"'Series' object has no attribute 'Household_id'\", 'occurred at index 0')"
          ]
        }
      ]
    },
    {
      "cell_type": "markdown",
      "metadata": {
        "id": "lkNcrX5xXR7X",
        "colab_type": "text"
      },
      "source": [
        "To make the task, we need to create some supporting columns"
      ]
    },
    {
      "cell_type": "code",
      "metadata": {
        "id": "itVRLQFHXR7Y",
        "colab_type": "code",
        "colab": {}
      },
      "source": [
        "def fillEmptyFields(listColumns,df) :\n",
        "    temp=''\n",
        "    suppDic={}\n",
        "    for col in listColumns :\n",
        "        suppDic[col]={'list':[],'suppVar':''}\n",
        "        \n",
        "        for index, row in df.iterrows():\n",
        "            temp=row['Household_id']\n",
        "            if str(row['Codbar'])==str(temp) :\n",
        "\n",
        "                suppDic[col]['suppVar']=row[col]\n",
        "                suppDic[col]['list'].append(suppDic[col]['suppVar'])\n",
        "\n",
        "            elif str(temp)==str(row['Codbar'])[:-1] :\n",
        "                suppDic[col]['list'].append(suppDic[col]['suppVar'])\n",
        "                \n",
        "\n",
        "        df['Household_'+col]=suppDic[col]['list']"
      ],
      "execution_count": 0,
      "outputs": []
    },
    {
      "cell_type": "code",
      "metadata": {
        "id": "Ab0glEXWXR7b",
        "colab_type": "code",
        "colab": {}
      },
      "source": [
        "listColumns=[\n",
        "    'rue1',\n",
        "    'ville',\n",
        "    'nip',\n",
        "    'pays',\n",
        "    'date_visit'\n",
        "]\n",
        "fillEmptyFields(listColumns,df)"
      ],
      "execution_count": 0,
      "outputs": []
    },
    {
      "cell_type": "markdown",
      "metadata": {
        "id": "I5ZkiJzEXR7d",
        "colab_type": "text"
      },
      "source": [
        "Now we can fill the empty of NaN cells with the one of patient0"
      ]
    },
    {
      "cell_type": "code",
      "metadata": {
        "id": "qiv_p-HcXR7e",
        "colab_type": "code",
        "colab": {}
      },
      "source": [
        "df['rue1']       =df.apply(lambda x: x.Household_rue1       if pd.isna(x.rue1)        or x.rue1==''      else x.rue1, axis=1)\n",
        "df['ville']      =df.apply(lambda x: x.Household_ville      if pd.isna(x.ville)       or x.ville==''     else x.ville, axis=1)\n",
        "df['nip']        =df.apply(lambda x: x.Household_nip        if pd.isna(x.nip)         or str(x.nip)==''  else x.nip, axis=1)\n",
        "df['pays']       =df.apply(lambda x: x.Household_pays       if pd.isna(x.pays)        or x.pays==''      else x.pays, axis=1)\n",
        "df['date_visit'] =df.apply(lambda x: x.Household_date_visit if pd.isna(x.date_visit)  or str(x.pays)=='' else x.date_visit, axis=1)\n"
      ],
      "execution_count": 0,
      "outputs": []
    },
    {
      "cell_type": "markdown",
      "metadata": {
        "id": "a77hbUP_XR7g",
        "colab_type": "text"
      },
      "source": [
        "We can clean up the df"
      ]
    },
    {
      "cell_type": "code",
      "metadata": {
        "id": "c59WK-A1XR7g",
        "colab_type": "code",
        "colab": {}
      },
      "source": [
        "df=df.drop(columns=['Household_rue1', 'Household_ville','Household_nip','Household_pays','Household_date_visit','support_codbar'])"
      ],
      "execution_count": 0,
      "outputs": []
    },
    {
      "cell_type": "markdown",
      "metadata": {
        "id": "wB8ZwKkkXR7i",
        "colab_type": "text"
      },
      "source": [
        "Write the Dates in proper format"
      ]
    },
    {
      "cell_type": "code",
      "metadata": {
        "id": "Vz5Jhy-FXR7j",
        "colab_type": "code",
        "colab": {}
      },
      "source": [
        "dates=['date_birth','date_visit','date_lab']\n",
        "for date in dates :\n",
        "    df[date] = pd.to_datetime(df[date]).dt.date"
      ],
      "execution_count": 0,
      "outputs": []
    },
    {
      "cell_type": "markdown",
      "metadata": {
        "id": "kIvAryUbXR7l",
        "colab_type": "text"
      },
      "source": [
        "Remove wrong entries with undetermined age"
      ]
    },
    {
      "cell_type": "code",
      "metadata": {
        "id": "0A3mBbwtXR7l",
        "colab_type": "code",
        "colab": {}
      },
      "source": [
        "df=df[df['age'].notnull()]"
      ],
      "execution_count": 0,
      "outputs": []
    },
    {
      "cell_type": "code",
      "metadata": {
        "id": "3akrZPPIXR7n",
        "colab_type": "code",
        "colab": {},
        "outputId": "25f34777-4d15-476c-f4ff-d0514f055e83"
      },
      "source": [
        "df.isnull().sum()"
      ],
      "execution_count": 0,
      "outputs": [
        {
          "output_type": "execute_result",
          "data": {
            "text/plain": [
              "Codbar           0\n",
              "age              0\n",
              "date_birth       0\n",
              "sex              0\n",
              "rue1             0\n",
              "ville            3\n",
              "nip              3\n",
              "pays             7\n",
              "date_visit      20\n",
              "IgA_Ratio        0\n",
              "IgA_Résultat     0\n",
              "IgG_Ratio        0\n",
              "IgG_Résultat     0\n",
              "date_lab         0\n",
              "Household_id     0\n",
              "nr_personnes     0\n",
              "dtype: int64"
            ]
          },
          "metadata": {
            "tags": []
          },
          "execution_count": 26
        }
      ]
    },
    {
      "cell_type": "code",
      "metadata": {
        "id": "-68yz1gNXR7p",
        "colab_type": "code",
        "colab": {}
      },
      "source": [
        "df.to_excel(\"/Users/euclide/Desktop/update_data_29_04a.xlsx\")  "
      ],
      "execution_count": 0,
      "outputs": []
    }
  ]
}