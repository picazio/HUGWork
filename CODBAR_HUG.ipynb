{
  "nbformat": 4,
  "nbformat_minor": 0,
  "metadata": {
    "kernelspec": {
      "display_name": "Python 3",
      "language": "python",
      "name": "python3"
    },
    "language_info": {
      "codemirror_mode": {
        "name": "ipython",
        "version": 3
      },
      "file_extension": ".py",
      "mimetype": "text/x-python",
      "name": "python",
      "nbconvert_exporter": "python",
      "pygments_lexer": "ipython3",
      "version": "3.7.1"
    },
    "colab": {
      "name": "CODBAR_HUG.ipynb",
      "provenance": [],
      "include_colab_link": true
    }
  },
  "cells": [
    {
      "cell_type": "markdown",
      "metadata": {
        "id": "view-in-github",
        "colab_type": "text"
      },
      "source": [
        "<a href=\"https://colab.research.google.com/github/picazio/HUGWork/blob/master/CODBAR_HUG.ipynb\" target=\"_parent\"><img src=\"https://colab.research.google.com/assets/colab-badge.svg\" alt=\"Open In Colab\"/></a>"
      ]
    },
    {
      "cell_type": "markdown",
      "metadata": {
        "id": "IDLLI7u3fs9v",
        "colab_type": "text"
      },
      "source": [
        "Import all libraries"
      ]
    },
    {
      "cell_type": "code",
      "metadata": {
        "id": "VH49j7Gdfs9w",
        "colab_type": "code",
        "colab": {}
      },
      "source": [
        "import pandas as pd\n",
        "import numpy as np\n",
        "from datetime import datetime,timedelta\n",
        "from sklearn.metrics import mean_squared_error\n",
        "from scipy.optimize import curve_fit\n",
        "from scipy.optimize import fsolve\n",
        "import matplotlib.pyplot as plt\n",
        "%matplotlib inline"
      ],
      "execution_count": 0,
      "outputs": []
    },
    {
      "cell_type": "markdown",
      "metadata": {
        "id": "jBue2PMifs9z",
        "colab_type": "text"
      },
      "source": [
        "Import dataframe and explore it"
      ]
    },
    {
      "cell_type": "code",
      "metadata": {
        "id": "Kl2zOWTPfs90",
        "colab_type": "code",
        "outputId": "9a544f6e-b992-404a-a38d-b208368a21a2",
        "colab": {}
      },
      "source": [
        "url=\"/Users/euclide/Desktop/Codbar_update.xls\"\n",
        "df = pd.read_excel(io=url, sheet_name='Sheet1')\n",
        "\n",
        "df.head()"
      ],
      "execution_count": 0,
      "outputs": [
        {
          "output_type": "execute_result",
          "data": {
            "text/html": [
              "<div>\n",
              "<style scoped>\n",
              "    .dataframe tbody tr th:only-of-type {\n",
              "        vertical-align: middle;\n",
              "    }\n",
              "\n",
              "    .dataframe tbody tr th {\n",
              "        vertical-align: top;\n",
              "    }\n",
              "\n",
              "    .dataframe thead th {\n",
              "        text-align: right;\n",
              "    }\n",
              "</style>\n",
              "<table border=\"1\" class=\"dataframe\">\n",
              "  <thead>\n",
              "    <tr style=\"text-align: right;\">\n",
              "      <th></th>\n",
              "      <th>Codbar</th>\n",
              "      <th>rue1</th>\n",
              "    </tr>\n",
              "  </thead>\n",
              "  <tbody>\n",
              "    <tr>\n",
              "      <th>0</th>\n",
              "      <td>110472</td>\n",
              "      <td>RUE DES EVAUX 3</td>\n",
              "    </tr>\n",
              "    <tr>\n",
              "      <th>1</th>\n",
              "      <td>110473</td>\n",
              "      <td>RUE FRANCOIS DURAFOUR 12</td>\n",
              "    </tr>\n",
              "    <tr>\n",
              "      <th>2</th>\n",
              "      <td>110476</td>\n",
              "      <td>RUE SAINT LAURENT 2</td>\n",
              "    </tr>\n",
              "    <tr>\n",
              "      <th>3</th>\n",
              "      <td>110487</td>\n",
              "      <td>CH PLEIN CHAMPS 11</td>\n",
              "    </tr>\n",
              "    <tr>\n",
              "      <th>4</th>\n",
              "      <td>110499</td>\n",
              "      <td>RTE DE JUSSY 18B</td>\n",
              "    </tr>\n",
              "  </tbody>\n",
              "</table>\n",
              "</div>"
            ],
            "text/plain": [
              "   Codbar                      rue1\n",
              "0  110472           RUE DES EVAUX 3\n",
              "1  110473  RUE FRANCOIS DURAFOUR 12\n",
              "2  110476       RUE SAINT LAURENT 2\n",
              "3  110487        CH PLEIN CHAMPS 11\n",
              "4  110499          RTE DE JUSSY 18B"
            ]
          },
          "metadata": {
            "tags": []
          },
          "execution_count": 2
        }
      ]
    },
    {
      "cell_type": "markdown",
      "metadata": {
        "id": "EmMJodrwfs93",
        "colab_type": "text"
      },
      "source": [
        "Define some criteria to indentify families. There are old patients and new patients"
      ]
    },
    {
      "cell_type": "markdown",
      "metadata": {
        "id": "ZN6_LbL6fs93",
        "colab_type": "text"
      },
      "source": [
        "Define a fuction containing the critetia to create the new column of number of people in each household"
      ]
    },
    {
      "cell_type": "code",
      "metadata": {
        "id": "lPuO_2Jffs94",
        "colab_type": "code",
        "colab": {}
      },
      "source": [
        "def create_households(x) :\n",
        "    listold=['11','21','31']\n",
        "    listold2=['410','411']\n",
        "    if len(str(x))==6 :\n",
        "        return str(x)\n",
        "    elif (any(c in str(x)[:2] for c in listold) and len(str(x))==7) :\n",
        "        return str(x)[:-1]\n",
        "    elif len(str(x))==8 :\n",
        "        return str(x)[:-1]\n",
        "    elif (any(c in str(x)[:3] for c in listold2) and len(str(x))==7) :\n",
        "        return str(x)[:-1]\n",
        "    else :\n",
        "        return str(x)"
      ],
      "execution_count": 0,
      "outputs": []
    },
    {
      "cell_type": "markdown",
      "metadata": {
        "id": "sPOGFEUkfs97",
        "colab_type": "text"
      },
      "source": [
        "Apply the function to produce the 'Households_codbar' column"
      ]
    },
    {
      "cell_type": "code",
      "metadata": {
        "id": "5EC1MqMofs99",
        "colab_type": "code",
        "outputId": "b6554c38-3ec6-485d-e1cf-aa00c587b2aa",
        "colab": {}
      },
      "source": [
        "df['Households_codbar']=df['Codbar'].apply(lambda x: create_households(x))\n",
        "\n",
        "df.head()"
      ],
      "execution_count": 0,
      "outputs": [
        {
          "output_type": "execute_result",
          "data": {
            "text/html": [
              "<div>\n",
              "<style scoped>\n",
              "    .dataframe tbody tr th:only-of-type {\n",
              "        vertical-align: middle;\n",
              "    }\n",
              "\n",
              "    .dataframe tbody tr th {\n",
              "        vertical-align: top;\n",
              "    }\n",
              "\n",
              "    .dataframe thead th {\n",
              "        text-align: right;\n",
              "    }\n",
              "</style>\n",
              "<table border=\"1\" class=\"dataframe\">\n",
              "  <thead>\n",
              "    <tr style=\"text-align: right;\">\n",
              "      <th></th>\n",
              "      <th>Codbar</th>\n",
              "      <th>rue1</th>\n",
              "      <th>Households_codbar</th>\n",
              "    </tr>\n",
              "  </thead>\n",
              "  <tbody>\n",
              "    <tr>\n",
              "      <th>0</th>\n",
              "      <td>110472</td>\n",
              "      <td>RUE DES EVAUX 3</td>\n",
              "      <td>110472</td>\n",
              "    </tr>\n",
              "    <tr>\n",
              "      <th>1</th>\n",
              "      <td>110473</td>\n",
              "      <td>RUE FRANCOIS DURAFOUR 12</td>\n",
              "      <td>110473</td>\n",
              "    </tr>\n",
              "    <tr>\n",
              "      <th>2</th>\n",
              "      <td>110476</td>\n",
              "      <td>RUE SAINT LAURENT 2</td>\n",
              "      <td>110476</td>\n",
              "    </tr>\n",
              "    <tr>\n",
              "      <th>3</th>\n",
              "      <td>110487</td>\n",
              "      <td>CH PLEIN CHAMPS 11</td>\n",
              "      <td>110487</td>\n",
              "    </tr>\n",
              "    <tr>\n",
              "      <th>4</th>\n",
              "      <td>110499</td>\n",
              "      <td>RTE DE JUSSY 18B</td>\n",
              "      <td>110499</td>\n",
              "    </tr>\n",
              "  </tbody>\n",
              "</table>\n",
              "</div>"
            ],
            "text/plain": [
              "   Codbar                      rue1 Households_codbar\n",
              "0  110472           RUE DES EVAUX 3            110472\n",
              "1  110473  RUE FRANCOIS DURAFOUR 12            110473\n",
              "2  110476       RUE SAINT LAURENT 2            110476\n",
              "3  110487        CH PLEIN CHAMPS 11            110487\n",
              "4  110499          RTE DE JUSSY 18B            110499"
            ]
          },
          "metadata": {
            "tags": []
          },
          "execution_count": 4
        }
      ]
    },
    {
      "cell_type": "markdown",
      "metadata": {
        "id": "LkPbmKsyfs9_",
        "colab_type": "text"
      },
      "source": [
        "Now for each patient 0 we want to count the number of \"family members\" that have been tested"
      ]
    },
    {
      "cell_type": "code",
      "metadata": {
        "id": "sz3X5_jYfs-A",
        "colab_type": "code",
        "colab": {}
      },
      "source": [
        "df['Family_size']=df['Households_codbar'].map(df['Households_codbar'].value_counts())"
      ],
      "execution_count": 0,
      "outputs": []
    },
    {
      "cell_type": "markdown",
      "metadata": {
        "id": "hCUUXN6Pfs-C",
        "colab_type": "text"
      },
      "source": [
        "Let's check if it works"
      ]
    },
    {
      "cell_type": "code",
      "metadata": {
        "id": "Au7YVBOgfs-D",
        "colab_type": "code",
        "outputId": "f14279e6-fbaa-4f61-92f0-dc1e8363c7bd",
        "colab": {}
      },
      "source": [
        "#df[df['Codbar'].apply(lambda x: len(str(x))>=7)]\n",
        "df[2992:2999]"
      ],
      "execution_count": 0,
      "outputs": [
        {
          "output_type": "execute_result",
          "data": {
            "text/html": [
              "<div>\n",
              "<style scoped>\n",
              "    .dataframe tbody tr th:only-of-type {\n",
              "        vertical-align: middle;\n",
              "    }\n",
              "\n",
              "    .dataframe tbody tr th {\n",
              "        vertical-align: top;\n",
              "    }\n",
              "\n",
              "    .dataframe thead th {\n",
              "        text-align: right;\n",
              "    }\n",
              "</style>\n",
              "<table border=\"1\" class=\"dataframe\">\n",
              "  <thead>\n",
              "    <tr style=\"text-align: right;\">\n",
              "      <th></th>\n",
              "      <th>Codbar</th>\n",
              "      <th>rue1</th>\n",
              "      <th>Households_codbar</th>\n",
              "      <th>Family_size</th>\n",
              "    </tr>\n",
              "  </thead>\n",
              "  <tbody>\n",
              "    <tr>\n",
              "      <th>2992</th>\n",
              "      <td>1610156</td>\n",
              "      <td>CHEMIN DES DEUX COMMUNES 23</td>\n",
              "      <td>1610156</td>\n",
              "      <td>1</td>\n",
              "    </tr>\n",
              "    <tr>\n",
              "      <th>2993</th>\n",
              "      <td>1610159</td>\n",
              "      <td>Chemin de l'Eglise 5</td>\n",
              "      <td>1610159</td>\n",
              "      <td>5</td>\n",
              "    </tr>\n",
              "    <tr>\n",
              "      <th>2994</th>\n",
              "      <td>16101591</td>\n",
              "      <td>Chemin de l'Eglise 5</td>\n",
              "      <td>1610159</td>\n",
              "      <td>5</td>\n",
              "    </tr>\n",
              "    <tr>\n",
              "      <th>2995</th>\n",
              "      <td>16101592</td>\n",
              "      <td>Chemin de l'Eglise 5</td>\n",
              "      <td>1610159</td>\n",
              "      <td>5</td>\n",
              "    </tr>\n",
              "    <tr>\n",
              "      <th>2996</th>\n",
              "      <td>16101593</td>\n",
              "      <td>Chemin de l'Eglise 5</td>\n",
              "      <td>1610159</td>\n",
              "      <td>5</td>\n",
              "    </tr>\n",
              "    <tr>\n",
              "      <th>2997</th>\n",
              "      <td>16101594</td>\n",
              "      <td>Chemin de l'Eglise 5</td>\n",
              "      <td>1610159</td>\n",
              "      <td>5</td>\n",
              "    </tr>\n",
              "    <tr>\n",
              "      <th>2998</th>\n",
              "      <td>1610161</td>\n",
              "      <td>AVENUE DU GROS CHENE 14B</td>\n",
              "      <td>1610161</td>\n",
              "      <td>1</td>\n",
              "    </tr>\n",
              "  </tbody>\n",
              "</table>\n",
              "</div>"
            ],
            "text/plain": [
              "        Codbar                         rue1 Households_codbar  Family_size\n",
              "2992   1610156  CHEMIN DES DEUX COMMUNES 23           1610156            1\n",
              "2993   1610159         Chemin de l'Eglise 5           1610159            5\n",
              "2994  16101591         Chemin de l'Eglise 5           1610159            5\n",
              "2995  16101592         Chemin de l'Eglise 5           1610159            5\n",
              "2996  16101593         Chemin de l'Eglise 5           1610159            5\n",
              "2997  16101594         Chemin de l'Eglise 5           1610159            5\n",
              "2998   1610161     AVENUE DU GROS CHENE 14B           1610161            1"
            ]
          },
          "metadata": {
            "tags": []
          },
          "execution_count": 6
        }
      ]
    },
    {
      "cell_type": "markdown",
      "metadata": {
        "id": "nuboE447fs-G",
        "colab_type": "text"
      },
      "source": [
        "Save to a new excel file"
      ]
    },
    {
      "cell_type": "code",
      "metadata": {
        "id": "rrC2d8OVfs-H",
        "colab_type": "code",
        "colab": {}
      },
      "source": [
        "df.to_excel(\"/Users/euclide/Desktop/output.xlsx\")  "
      ],
      "execution_count": 0,
      "outputs": []
    },
    {
      "cell_type": "markdown",
      "metadata": {
        "id": "T4PODtURfs-J",
        "colab_type": "text"
      },
      "source": [
        "Sanity check:"
      ]
    },
    {
      "cell_type": "code",
      "metadata": {
        "id": "TsXd9PVgfs-K",
        "colab_type": "code",
        "colab": {}
      },
      "source": [
        "df[df['Family_size']>5]"
      ],
      "execution_count": 0,
      "outputs": []
    }
  ]
}