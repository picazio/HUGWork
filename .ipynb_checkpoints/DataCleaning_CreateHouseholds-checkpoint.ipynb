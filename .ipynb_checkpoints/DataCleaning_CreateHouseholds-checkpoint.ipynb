{
 "cells": [
  {
   "cell_type": "markdown",
   "metadata": {
    "colab_type": "text",
    "id": "view-in-github"
   },
   "source": [
    "<a href=\"https://colab.research.google.com/github/picazio/HUGWork/blob/master/CODBAR_HUG.ipynb\" target=\"_parent\"><img src=\"https://colab.research.google.com/assets/colab-badge.svg\" alt=\"Open In Colab\"/></a>"
   ]
  },
  {
   "cell_type": "markdown",
   "metadata": {
    "colab_type": "text",
    "id": "IDLLI7u3fs9v"
   },
   "source": [
    "Import all libraries"
   ]
  },
  {
   "cell_type": "code",
   "execution_count": 1,
   "metadata": {
    "colab": {},
    "colab_type": "code",
    "id": "VH49j7Gdfs9w"
   },
   "outputs": [],
   "source": [
    "import pandas as pd\n",
    "import numpy as np\n",
    "from datetime import datetime,timedelta\n",
    "from sklearn.metrics import mean_squared_error\n",
    "from scipy.optimize import curve_fit\n",
    "from scipy.optimize import fsolve\n",
    "import matplotlib.pyplot as plt\n",
    "%matplotlib inline"
   ]
  },
  {
   "cell_type": "markdown",
   "metadata": {
    "colab_type": "text",
    "id": "jBue2PMifs9z"
   },
   "source": [
    "Import dataframe and explore it"
   ]
  },
  {
   "cell_type": "code",
   "execution_count": 9,
   "metadata": {
    "colab": {},
    "colab_type": "code",
    "id": "Kl2zOWTPfs90",
    "outputId": "9a544f6e-b992-404a-a38d-b208368a21a2"
   },
   "outputs": [
    {
     "data": {
      "text/html": [
       "<div>\n",
       "<style scoped>\n",
       "    .dataframe tbody tr th:only-of-type {\n",
       "        vertical-align: middle;\n",
       "    }\n",
       "\n",
       "    .dataframe tbody tr th {\n",
       "        vertical-align: top;\n",
       "    }\n",
       "\n",
       "    .dataframe thead th {\n",
       "        text-align: right;\n",
       "    }\n",
       "</style>\n",
       "<table border=\"1\" class=\"dataframe\">\n",
       "  <thead>\n",
       "    <tr style=\"text-align: right;\">\n",
       "      <th></th>\n",
       "      <th>Codbar</th>\n",
       "      <th>id_REDCap</th>\n",
       "      <th>birthday</th>\n",
       "      <th>age</th>\n",
       "      <th>sexe</th>\n",
       "      <th>cancer</th>\n",
       "      <th>diabete</th>\n",
       "      <th>faiblesse_imm</th>\n",
       "      <th>hypertension</th>\n",
       "      <th>maladie_cvd</th>\n",
       "      <th>...</th>\n",
       "      <th>inquiet_fam_3</th>\n",
       "      <th>inquiet_fam_4</th>\n",
       "      <th>inquiet_fam_5</th>\n",
       "      <th>inquiet_fam_7</th>\n",
       "      <th>inquiet_fam_8</th>\n",
       "      <th>inquiet_fam_9</th>\n",
       "      <th>inquiet_fam_6</th>\n",
       "      <th>autre_raison_fam_inquiet_1</th>\n",
       "      <th>consentement</th>\n",
       "      <th>Resp_REDCap</th>\n",
       "    </tr>\n",
       "  </thead>\n",
       "  <tbody>\n",
       "    <tr>\n",
       "      <th>0</th>\n",
       "      <td>110501</td>\n",
       "      <td>2637</td>\n",
       "      <td>1957-06-18</td>\n",
       "      <td>62.0</td>\n",
       "      <td>Masculin</td>\n",
       "      <td>Non</td>\n",
       "      <td>Non</td>\n",
       "      <td>Non</td>\n",
       "      <td>Non</td>\n",
       "      <td>Non</td>\n",
       "      <td>...</td>\n",
       "      <td>Non</td>\n",
       "      <td>Non</td>\n",
       "      <td>Non</td>\n",
       "      <td>Non</td>\n",
       "      <td>Non</td>\n",
       "      <td>Non</td>\n",
       "      <td>Non</td>\n",
       "      <td>NaN</td>\n",
       "      <td>Oui</td>\n",
       "      <td>Rempli en ligne</td>\n",
       "    </tr>\n",
       "    <tr>\n",
       "      <th>1</th>\n",
       "      <td>110822</td>\n",
       "      <td>333</td>\n",
       "      <td>1965-10-06</td>\n",
       "      <td>54.0</td>\n",
       "      <td>Féminin</td>\n",
       "      <td>Non</td>\n",
       "      <td>Non</td>\n",
       "      <td>Non</td>\n",
       "      <td>Non</td>\n",
       "      <td>Non</td>\n",
       "      <td>...</td>\n",
       "      <td>Non</td>\n",
       "      <td>Non</td>\n",
       "      <td>Non</td>\n",
       "      <td>Oui</td>\n",
       "      <td>Non</td>\n",
       "      <td>Non</td>\n",
       "      <td>Non</td>\n",
       "      <td>NaN</td>\n",
       "      <td>Oui</td>\n",
       "      <td>Rempli en papier forme</td>\n",
       "    </tr>\n",
       "    <tr>\n",
       "      <th>2</th>\n",
       "      <td>110826</td>\n",
       "      <td>923</td>\n",
       "      <td>1943-06-28</td>\n",
       "      <td>76.0</td>\n",
       "      <td>Féminin</td>\n",
       "      <td>Non</td>\n",
       "      <td>Non</td>\n",
       "      <td>Non</td>\n",
       "      <td>Oui</td>\n",
       "      <td>Non</td>\n",
       "      <td>...</td>\n",
       "      <td>Non</td>\n",
       "      <td>Non</td>\n",
       "      <td>Non</td>\n",
       "      <td>Non</td>\n",
       "      <td>Non</td>\n",
       "      <td>Non</td>\n",
       "      <td>Oui</td>\n",
       "      <td>Ils vivent en Suisse, mais loin de moi</td>\n",
       "      <td>Oui</td>\n",
       "      <td>Rempli en ligne</td>\n",
       "    </tr>\n",
       "    <tr>\n",
       "      <th>3</th>\n",
       "      <td>110879</td>\n",
       "      <td>341</td>\n",
       "      <td>1965-09-03</td>\n",
       "      <td>54.0</td>\n",
       "      <td>Féminin</td>\n",
       "      <td>Non</td>\n",
       "      <td>Non</td>\n",
       "      <td>Non</td>\n",
       "      <td>Oui</td>\n",
       "      <td>Non</td>\n",
       "      <td>...</td>\n",
       "      <td>Non</td>\n",
       "      <td>Non</td>\n",
       "      <td>Non</td>\n",
       "      <td>Oui</td>\n",
       "      <td>Non</td>\n",
       "      <td>Non</td>\n",
       "      <td>Non</td>\n",
       "      <td>NaN</td>\n",
       "      <td>Oui</td>\n",
       "      <td>Rempli en papier forme</td>\n",
       "    </tr>\n",
       "    <tr>\n",
       "      <th>4</th>\n",
       "      <td>110926</td>\n",
       "      <td>1110</td>\n",
       "      <td>1949-04-21</td>\n",
       "      <td>70.0</td>\n",
       "      <td>Masculin</td>\n",
       "      <td>Non</td>\n",
       "      <td>Non</td>\n",
       "      <td>Non</td>\n",
       "      <td>Oui</td>\n",
       "      <td>Non</td>\n",
       "      <td>...</td>\n",
       "      <td>Oui</td>\n",
       "      <td>Non</td>\n",
       "      <td>Oui</td>\n",
       "      <td>Non</td>\n",
       "      <td>Non</td>\n",
       "      <td>Non</td>\n",
       "      <td>Non</td>\n",
       "      <td>NaN</td>\n",
       "      <td>Oui</td>\n",
       "      <td>Rempli en papier forme</td>\n",
       "    </tr>\n",
       "  </tbody>\n",
       "</table>\n",
       "<p>5 rows × 198 columns</p>\n",
       "</div>"
      ],
      "text/plain": [
       "   Codbar  id_REDCap   birthday   age      sexe cancer diabete faiblesse_imm  \\\n",
       "0  110501       2637 1957-06-18  62.0  Masculin    Non     Non           Non   \n",
       "1  110822        333 1965-10-06  54.0   Féminin    Non     Non           Non   \n",
       "2  110826        923 1943-06-28  76.0   Féminin    Non     Non           Non   \n",
       "3  110879        341 1965-09-03  54.0   Féminin    Non     Non           Non   \n",
       "4  110926       1110 1949-04-21  70.0  Masculin    Non     Non           Non   \n",
       "\n",
       "  hypertension maladie_cvd           ...           inquiet_fam_3  \\\n",
       "0          Non         Non           ...                     Non   \n",
       "1          Non         Non           ...                     Non   \n",
       "2          Oui         Non           ...                     Non   \n",
       "3          Oui         Non           ...                     Non   \n",
       "4          Oui         Non           ...                     Oui   \n",
       "\n",
       "  inquiet_fam_4 inquiet_fam_5  inquiet_fam_7  inquiet_fam_8  inquiet_fam_9  \\\n",
       "0           Non           Non            Non            Non            Non   \n",
       "1           Non           Non            Oui            Non            Non   \n",
       "2           Non           Non            Non            Non            Non   \n",
       "3           Non           Non            Oui            Non            Non   \n",
       "4           Non           Oui            Non            Non            Non   \n",
       "\n",
       "  inquiet_fam_6              autre_raison_fam_inquiet_1 consentement  \\\n",
       "0           Non                                     NaN          Oui   \n",
       "1           Non                                     NaN          Oui   \n",
       "2           Oui  Ils vivent en Suisse, mais loin de moi          Oui   \n",
       "3           Non                                     NaN          Oui   \n",
       "4           Non                                     NaN          Oui   \n",
       "\n",
       "              Resp_REDCap  \n",
       "0         Rempli en ligne  \n",
       "1  Rempli en papier forme  \n",
       "2         Rempli en ligne  \n",
       "3  Rempli en papier forme  \n",
       "4  Rempli en papier forme  \n",
       "\n",
       "[5 rows x 198 columns]"
      ]
     },
     "execution_count": 9,
     "metadata": {},
     "output_type": "execute_result"
    }
   ],
   "source": [
    "url=\"/Users/euclide/Downloads/REDCap_clean_08_05.xls\"\n",
    "df = pd.read_excel(io=url, sheet_name='Sheet1')\n",
    "\n",
    "df.head()"
   ]
  },
  {
   "cell_type": "markdown",
   "metadata": {
    "colab_type": "text",
    "id": "EmMJodrwfs93"
   },
   "source": [
    "Define some criteria to indentify families. There are old patients and new patients"
   ]
  },
  {
   "cell_type": "markdown",
   "metadata": {
    "colab_type": "text",
    "id": "ZN6_LbL6fs93"
   },
   "source": [
    "Define a fuction containing the critetia to create the new column of number of people in each household"
   ]
  },
  {
   "cell_type": "code",
   "execution_count": 10,
   "metadata": {
    "colab": {},
    "colab_type": "code",
    "id": "lPuO_2Jffs94"
   },
   "outputs": [],
   "source": [
    "def create_households(x) :\n",
    "    listold=['11','21','31']\n",
    "    listold2=['410','411']\n",
    "    if len(str(x))==6 :\n",
    "        return str(x)\n",
    "    elif (any(c in str(x)[:2] for c in listold) and len(str(x))==7) :\n",
    "        return str(x)[:-1]\n",
    "    elif len(str(x))==8 :\n",
    "        return str(x)[:-1]\n",
    "    elif (any(c in str(x)[:3] for c in listold2) and len(str(x))==7) :\n",
    "        return str(x)[:-1]\n",
    "    else :\n",
    "        return str(x)"
   ]
  },
  {
   "cell_type": "markdown",
   "metadata": {
    "colab_type": "text",
    "id": "sPOGFEUkfs97"
   },
   "source": [
    "Apply the function to produce the 'Households_codbar' column"
   ]
  },
  {
   "cell_type": "code",
   "execution_count": 11,
   "metadata": {
    "colab": {},
    "colab_type": "code",
    "id": "5EC1MqMofs99",
    "outputId": "b6554c38-3ec6-485d-e1cf-aa00c587b2aa"
   },
   "outputs": [
    {
     "data": {
      "text/html": [
       "<div>\n",
       "<style scoped>\n",
       "    .dataframe tbody tr th:only-of-type {\n",
       "        vertical-align: middle;\n",
       "    }\n",
       "\n",
       "    .dataframe tbody tr th {\n",
       "        vertical-align: top;\n",
       "    }\n",
       "\n",
       "    .dataframe thead th {\n",
       "        text-align: right;\n",
       "    }\n",
       "</style>\n",
       "<table border=\"1\" class=\"dataframe\">\n",
       "  <thead>\n",
       "    <tr style=\"text-align: right;\">\n",
       "      <th></th>\n",
       "      <th>Codbar</th>\n",
       "      <th>id_REDCap</th>\n",
       "      <th>birthday</th>\n",
       "      <th>age</th>\n",
       "      <th>sexe</th>\n",
       "      <th>cancer</th>\n",
       "      <th>diabete</th>\n",
       "      <th>faiblesse_imm</th>\n",
       "      <th>hypertension</th>\n",
       "      <th>maladie_cvd</th>\n",
       "      <th>...</th>\n",
       "      <th>inquiet_fam_4</th>\n",
       "      <th>inquiet_fam_5</th>\n",
       "      <th>inquiet_fam_7</th>\n",
       "      <th>inquiet_fam_8</th>\n",
       "      <th>inquiet_fam_9</th>\n",
       "      <th>inquiet_fam_6</th>\n",
       "      <th>autre_raison_fam_inquiet_1</th>\n",
       "      <th>consentement</th>\n",
       "      <th>Resp_REDCap</th>\n",
       "      <th>Household_codbar</th>\n",
       "    </tr>\n",
       "  </thead>\n",
       "  <tbody>\n",
       "    <tr>\n",
       "      <th>0</th>\n",
       "      <td>110501</td>\n",
       "      <td>2637</td>\n",
       "      <td>1957-06-18</td>\n",
       "      <td>62.0</td>\n",
       "      <td>Masculin</td>\n",
       "      <td>Non</td>\n",
       "      <td>Non</td>\n",
       "      <td>Non</td>\n",
       "      <td>Non</td>\n",
       "      <td>Non</td>\n",
       "      <td>...</td>\n",
       "      <td>Non</td>\n",
       "      <td>Non</td>\n",
       "      <td>Non</td>\n",
       "      <td>Non</td>\n",
       "      <td>Non</td>\n",
       "      <td>Non</td>\n",
       "      <td>NaN</td>\n",
       "      <td>Oui</td>\n",
       "      <td>Rempli en ligne</td>\n",
       "      <td>110501</td>\n",
       "    </tr>\n",
       "    <tr>\n",
       "      <th>1</th>\n",
       "      <td>110822</td>\n",
       "      <td>333</td>\n",
       "      <td>1965-10-06</td>\n",
       "      <td>54.0</td>\n",
       "      <td>Féminin</td>\n",
       "      <td>Non</td>\n",
       "      <td>Non</td>\n",
       "      <td>Non</td>\n",
       "      <td>Non</td>\n",
       "      <td>Non</td>\n",
       "      <td>...</td>\n",
       "      <td>Non</td>\n",
       "      <td>Non</td>\n",
       "      <td>Oui</td>\n",
       "      <td>Non</td>\n",
       "      <td>Non</td>\n",
       "      <td>Non</td>\n",
       "      <td>NaN</td>\n",
       "      <td>Oui</td>\n",
       "      <td>Rempli en papier forme</td>\n",
       "      <td>110822</td>\n",
       "    </tr>\n",
       "    <tr>\n",
       "      <th>2</th>\n",
       "      <td>110826</td>\n",
       "      <td>923</td>\n",
       "      <td>1943-06-28</td>\n",
       "      <td>76.0</td>\n",
       "      <td>Féminin</td>\n",
       "      <td>Non</td>\n",
       "      <td>Non</td>\n",
       "      <td>Non</td>\n",
       "      <td>Oui</td>\n",
       "      <td>Non</td>\n",
       "      <td>...</td>\n",
       "      <td>Non</td>\n",
       "      <td>Non</td>\n",
       "      <td>Non</td>\n",
       "      <td>Non</td>\n",
       "      <td>Non</td>\n",
       "      <td>Oui</td>\n",
       "      <td>Ils vivent en Suisse, mais loin de moi</td>\n",
       "      <td>Oui</td>\n",
       "      <td>Rempli en ligne</td>\n",
       "      <td>110826</td>\n",
       "    </tr>\n",
       "    <tr>\n",
       "      <th>3</th>\n",
       "      <td>110879</td>\n",
       "      <td>341</td>\n",
       "      <td>1965-09-03</td>\n",
       "      <td>54.0</td>\n",
       "      <td>Féminin</td>\n",
       "      <td>Non</td>\n",
       "      <td>Non</td>\n",
       "      <td>Non</td>\n",
       "      <td>Oui</td>\n",
       "      <td>Non</td>\n",
       "      <td>...</td>\n",
       "      <td>Non</td>\n",
       "      <td>Non</td>\n",
       "      <td>Oui</td>\n",
       "      <td>Non</td>\n",
       "      <td>Non</td>\n",
       "      <td>Non</td>\n",
       "      <td>NaN</td>\n",
       "      <td>Oui</td>\n",
       "      <td>Rempli en papier forme</td>\n",
       "      <td>110879</td>\n",
       "    </tr>\n",
       "    <tr>\n",
       "      <th>4</th>\n",
       "      <td>110926</td>\n",
       "      <td>1110</td>\n",
       "      <td>1949-04-21</td>\n",
       "      <td>70.0</td>\n",
       "      <td>Masculin</td>\n",
       "      <td>Non</td>\n",
       "      <td>Non</td>\n",
       "      <td>Non</td>\n",
       "      <td>Oui</td>\n",
       "      <td>Non</td>\n",
       "      <td>...</td>\n",
       "      <td>Non</td>\n",
       "      <td>Oui</td>\n",
       "      <td>Non</td>\n",
       "      <td>Non</td>\n",
       "      <td>Non</td>\n",
       "      <td>Non</td>\n",
       "      <td>NaN</td>\n",
       "      <td>Oui</td>\n",
       "      <td>Rempli en papier forme</td>\n",
       "      <td>110926</td>\n",
       "    </tr>\n",
       "  </tbody>\n",
       "</table>\n",
       "<p>5 rows × 199 columns</p>\n",
       "</div>"
      ],
      "text/plain": [
       "   Codbar  id_REDCap   birthday   age      sexe cancer diabete faiblesse_imm  \\\n",
       "0  110501       2637 1957-06-18  62.0  Masculin    Non     Non           Non   \n",
       "1  110822        333 1965-10-06  54.0   Féminin    Non     Non           Non   \n",
       "2  110826        923 1943-06-28  76.0   Féminin    Non     Non           Non   \n",
       "3  110879        341 1965-09-03  54.0   Féminin    Non     Non           Non   \n",
       "4  110926       1110 1949-04-21  70.0  Masculin    Non     Non           Non   \n",
       "\n",
       "  hypertension maladie_cvd       ...        inquiet_fam_4 inquiet_fam_5  \\\n",
       "0          Non         Non       ...                  Non           Non   \n",
       "1          Non         Non       ...                  Non           Non   \n",
       "2          Oui         Non       ...                  Non           Non   \n",
       "3          Oui         Non       ...                  Non           Non   \n",
       "4          Oui         Non       ...                  Non           Oui   \n",
       "\n",
       "  inquiet_fam_7  inquiet_fam_8  inquiet_fam_9  inquiet_fam_6  \\\n",
       "0           Non            Non            Non            Non   \n",
       "1           Oui            Non            Non            Non   \n",
       "2           Non            Non            Non            Oui   \n",
       "3           Oui            Non            Non            Non   \n",
       "4           Non            Non            Non            Non   \n",
       "\n",
       "               autre_raison_fam_inquiet_1 consentement  \\\n",
       "0                                     NaN          Oui   \n",
       "1                                     NaN          Oui   \n",
       "2  Ils vivent en Suisse, mais loin de moi          Oui   \n",
       "3                                     NaN          Oui   \n",
       "4                                     NaN          Oui   \n",
       "\n",
       "              Resp_REDCap Household_codbar  \n",
       "0         Rempli en ligne           110501  \n",
       "1  Rempli en papier forme           110822  \n",
       "2         Rempli en ligne           110826  \n",
       "3  Rempli en papier forme           110879  \n",
       "4  Rempli en papier forme           110926  \n",
       "\n",
       "[5 rows x 199 columns]"
      ]
     },
     "execution_count": 11,
     "metadata": {},
     "output_type": "execute_result"
    }
   ],
   "source": [
    "df['Household_codbar']=df['Codbar'].apply(lambda x: create_households(int(x)))\n",
    "\n",
    "df.head()"
   ]
  },
  {
   "cell_type": "markdown",
   "metadata": {
    "colab_type": "text",
    "id": "LkPbmKsyfs9_"
   },
   "source": [
    "Now for each patient 0 we want to count the number of \"family members\" that have been tested"
   ]
  },
  {
   "cell_type": "code",
   "execution_count": 12,
   "metadata": {
    "colab": {},
    "colab_type": "code",
    "id": "sz3X5_jYfs-A"
   },
   "outputs": [],
   "source": [
    "df['num_hhl_particpants']=df['Household_codbar'].map(df['Household_codbar'].value_counts())"
   ]
  },
  {
   "cell_type": "markdown",
   "metadata": {
    "colab_type": "text",
    "id": "hCUUXN6Pfs-C"
   },
   "source": [
    "Let's check if it works"
   ]
  },
  {
   "cell_type": "code",
   "execution_count": 13,
   "metadata": {
    "colab": {},
    "colab_type": "code",
    "id": "Au7YVBOgfs-D",
    "outputId": "f14279e6-fbaa-4f61-92f0-dc1e8363c7bd"
   },
   "outputs": [
    {
     "data": {
      "text/html": [
       "<div>\n",
       "<style scoped>\n",
       "    .dataframe tbody tr th:only-of-type {\n",
       "        vertical-align: middle;\n",
       "    }\n",
       "\n",
       "    .dataframe tbody tr th {\n",
       "        vertical-align: top;\n",
       "    }\n",
       "\n",
       "    .dataframe thead th {\n",
       "        text-align: right;\n",
       "    }\n",
       "</style>\n",
       "<table border=\"1\" class=\"dataframe\">\n",
       "  <thead>\n",
       "    <tr style=\"text-align: right;\">\n",
       "      <th></th>\n",
       "      <th>Codbar</th>\n",
       "      <th>id_REDCap</th>\n",
       "      <th>birthday</th>\n",
       "      <th>age</th>\n",
       "      <th>sexe</th>\n",
       "      <th>cancer</th>\n",
       "      <th>diabete</th>\n",
       "      <th>faiblesse_imm</th>\n",
       "      <th>hypertension</th>\n",
       "      <th>maladie_cvd</th>\n",
       "      <th>...</th>\n",
       "      <th>inquiet_fam_5</th>\n",
       "      <th>inquiet_fam_7</th>\n",
       "      <th>inquiet_fam_8</th>\n",
       "      <th>inquiet_fam_9</th>\n",
       "      <th>inquiet_fam_6</th>\n",
       "      <th>autre_raison_fam_inquiet_1</th>\n",
       "      <th>consentement</th>\n",
       "      <th>Resp_REDCap</th>\n",
       "      <th>Household_codbar</th>\n",
       "      <th>Family_size</th>\n",
       "    </tr>\n",
       "  </thead>\n",
       "  <tbody>\n",
       "  </tbody>\n",
       "</table>\n",
       "<p>0 rows × 200 columns</p>\n",
       "</div>"
      ],
      "text/plain": [
       "Empty DataFrame\n",
       "Columns: [Codbar, id_REDCap, birthday, age, sexe, cancer, diabete, faiblesse_imm, hypertension, maladie_cvd, maladie_respiratoires, autres_maladies, autres_maladies_chroniques, taille, poids, bmi, enceinte, enfant_maladie, enfant_maladie_desc, enfant_allergie, enfant_allergie_desc, symptom_1, symptom_2, symptom_3, symptom_4, symptom_5, symptom_6, symptom_7, symptom_8, symptom_9, symptom_10, symptom_11, symptom_12, symptom_13, symptom_14, symptom_15, autre_symptomes, nr_episodes_symp, debut_symptom_1, debut_symptom_2, debut_symptom_3, medicament_1, medicament_2, medicament_3, medicament_4, medicament_5, medicament_6, medicament_7, medicament_8, autres_medicaments, medicaments_recom_1, medicaments_recom_2, medicaments_recom_3, hospitalisation_enfant, hospitalisation, debut_hospitalisation, fin_hospitalisation, test_covid_old, date_test_codiv_old, res_test_covid_old, test_covid_famille, date_test_covid_famille_1, age_covid_famille_1, sexe_covid_famille_1, foyer_covid_famille_1, date_test_covid_famille_2, age_covid_famille_2, sexe_covid_famille_2, foyer_covid_famille_2, date_test_covid_famille_3, age_covid_famille_3, sexe_covid_famille_3, foyer_covid_famille_3, date_test_covid_famille_4, age_covid_famille_4, sexe_covid_famille_4, foyer_covid_famille_4, symp_covid_famille, date_symp_covid_famille_w1, age_symp_famille_1, sexe_symp_famille_1, foyer_symp_famille_1, date_symp_covid_famille_w2, age_symp_famille_2, sexe_symp_famille_2, foyer_symp_famille_2, date_symp_covid_famille_w3, age_symp_famille_3, sexe_symp_famille_3, foyer_symp_famille_3, date_symp_covid_famille_w4, age_symp_famille_4, sexe_symp_famille_4, foyer_symp_famille_4, fumeur, nr_cigarettes, years_quit, fumeur_ecig, fumeur_ecig_2, household_size, ...]\n",
       "Index: []\n",
       "\n",
       "[0 rows x 200 columns]"
      ]
     },
     "execution_count": 13,
     "metadata": {},
     "output_type": "execute_result"
    }
   ],
   "source": [
    "#df[df['Codbar'].apply(lambda x: len(str(x))>=7)]\n",
    "df[2992:2999]"
   ]
  },
  {
   "cell_type": "markdown",
   "metadata": {
    "colab_type": "text",
    "id": "nuboE447fs-G"
   },
   "source": [
    "Save to a new excel file"
   ]
  },
  {
   "cell_type": "code",
   "execution_count": 14,
   "metadata": {
    "colab": {},
    "colab_type": "code",
    "id": "rrC2d8OVfs-H"
   },
   "outputs": [],
   "source": [
    "df.to_excel(\"/Users/euclide/Desktop/REDCap_clean_08_05a.xls\")  "
   ]
  },
  {
   "cell_type": "markdown",
   "metadata": {
    "colab_type": "text",
    "id": "T4PODtURfs-J"
   },
   "source": [
    "Sanity check:"
   ]
  },
  {
   "cell_type": "code",
   "execution_count": 15,
   "metadata": {
    "colab": {},
    "colab_type": "code",
    "id": "TsXd9PVgfs-K"
   },
   "outputs": [
    {
     "data": {
      "text/html": [
       "<div>\n",
       "<style scoped>\n",
       "    .dataframe tbody tr th:only-of-type {\n",
       "        vertical-align: middle;\n",
       "    }\n",
       "\n",
       "    .dataframe tbody tr th {\n",
       "        vertical-align: top;\n",
       "    }\n",
       "\n",
       "    .dataframe thead th {\n",
       "        text-align: right;\n",
       "    }\n",
       "</style>\n",
       "<table border=\"1\" class=\"dataframe\">\n",
       "  <thead>\n",
       "    <tr style=\"text-align: right;\">\n",
       "      <th></th>\n",
       "      <th>Codbar</th>\n",
       "      <th>id_REDCap</th>\n",
       "      <th>birthday</th>\n",
       "      <th>age</th>\n",
       "      <th>sexe</th>\n",
       "      <th>cancer</th>\n",
       "      <th>diabete</th>\n",
       "      <th>faiblesse_imm</th>\n",
       "      <th>hypertension</th>\n",
       "      <th>maladie_cvd</th>\n",
       "      <th>...</th>\n",
       "      <th>inquiet_fam_5</th>\n",
       "      <th>inquiet_fam_7</th>\n",
       "      <th>inquiet_fam_8</th>\n",
       "      <th>inquiet_fam_9</th>\n",
       "      <th>inquiet_fam_6</th>\n",
       "      <th>autre_raison_fam_inquiet_1</th>\n",
       "      <th>consentement</th>\n",
       "      <th>Resp_REDCap</th>\n",
       "      <th>Household_codbar</th>\n",
       "      <th>Family_size</th>\n",
       "    </tr>\n",
       "  </thead>\n",
       "  <tbody>\n",
       "  </tbody>\n",
       "</table>\n",
       "<p>0 rows × 200 columns</p>\n",
       "</div>"
      ],
      "text/plain": [
       "Empty DataFrame\n",
       "Columns: [Codbar, id_REDCap, birthday, age, sexe, cancer, diabete, faiblesse_imm, hypertension, maladie_cvd, maladie_respiratoires, autres_maladies, autres_maladies_chroniques, taille, poids, bmi, enceinte, enfant_maladie, enfant_maladie_desc, enfant_allergie, enfant_allergie_desc, symptom_1, symptom_2, symptom_3, symptom_4, symptom_5, symptom_6, symptom_7, symptom_8, symptom_9, symptom_10, symptom_11, symptom_12, symptom_13, symptom_14, symptom_15, autre_symptomes, nr_episodes_symp, debut_symptom_1, debut_symptom_2, debut_symptom_3, medicament_1, medicament_2, medicament_3, medicament_4, medicament_5, medicament_6, medicament_7, medicament_8, autres_medicaments, medicaments_recom_1, medicaments_recom_2, medicaments_recom_3, hospitalisation_enfant, hospitalisation, debut_hospitalisation, fin_hospitalisation, test_covid_old, date_test_codiv_old, res_test_covid_old, test_covid_famille, date_test_covid_famille_1, age_covid_famille_1, sexe_covid_famille_1, foyer_covid_famille_1, date_test_covid_famille_2, age_covid_famille_2, sexe_covid_famille_2, foyer_covid_famille_2, date_test_covid_famille_3, age_covid_famille_3, sexe_covid_famille_3, foyer_covid_famille_3, date_test_covid_famille_4, age_covid_famille_4, sexe_covid_famille_4, foyer_covid_famille_4, symp_covid_famille, date_symp_covid_famille_w1, age_symp_famille_1, sexe_symp_famille_1, foyer_symp_famille_1, date_symp_covid_famille_w2, age_symp_famille_2, sexe_symp_famille_2, foyer_symp_famille_2, date_symp_covid_famille_w3, age_symp_famille_3, sexe_symp_famille_3, foyer_symp_famille_3, date_symp_covid_famille_w4, age_symp_famille_4, sexe_symp_famille_4, foyer_symp_famille_4, fumeur, nr_cigarettes, years_quit, fumeur_ecig, fumeur_ecig_2, household_size, ...]\n",
       "Index: []\n",
       "\n",
       "[0 rows x 200 columns]"
      ]
     },
     "execution_count": 15,
     "metadata": {},
     "output_type": "execute_result"
    }
   ],
   "source": [
    "df[df['num_hhl_particpants']>5]"
   ]
  },
  {
   "cell_type": "code",
   "execution_count": null,
   "metadata": {},
   "outputs": [],
   "source": []
  }
 ],
 "metadata": {
  "colab": {
   "include_colab_link": true,
   "name": "CODBAR_HUG.ipynb",
   "provenance": []
  },
  "kernelspec": {
   "display_name": "Python 3",
   "language": "python",
   "name": "python3"
  },
  "language_info": {
   "codemirror_mode": {
    "name": "ipython",
    "version": 3
   },
   "file_extension": ".py",
   "mimetype": "text/x-python",
   "name": "python",
   "nbconvert_exporter": "python",
   "pygments_lexer": "ipython3",
   "version": "3.7.1"
  }
 },
 "nbformat": 4,
 "nbformat_minor": 1
}
