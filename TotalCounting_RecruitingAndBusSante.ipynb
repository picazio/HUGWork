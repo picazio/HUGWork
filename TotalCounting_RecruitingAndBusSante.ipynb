{
  "nbformat": 4,
  "nbformat_minor": 0,
  "metadata": {
    "kernelspec": {
      "display_name": "Python 3",
      "language": "python",
      "name": "python3"
    },
    "language_info": {
      "codemirror_mode": {
        "name": "ipython",
        "version": 3
      },
      "file_extension": ".py",
      "mimetype": "text/x-python",
      "name": "python",
      "nbconvert_exporter": "python",
      "pygments_lexer": "ipython3",
      "version": "3.7.1"
    },
    "colab": {
      "name": "TotalCounting_RecruitingAndBusSante.ipynb",
      "provenance": [],
      "include_colab_link": true
    }
  },
  "cells": [
    {
      "cell_type": "markdown",
      "metadata": {
        "id": "view-in-github",
        "colab_type": "text"
      },
      "source": [
        "<a href=\"https://colab.research.google.com/github/picazio/HUGWork/blob/master/TotalCounting_RecruitingAndBusSante.ipynb\" target=\"_parent\"><img src=\"https://colab.research.google.com/assets/colab-badge.svg\" alt=\"Open In Colab\"/></a>"
      ]
    },
    {
      "cell_type": "markdown",
      "metadata": {
        "id": "ivgWusRFNjVK",
        "colab_type": "text"
      },
      "source": [
        "Import all libraries"
      ]
    },
    {
      "cell_type": "code",
      "metadata": {
        "id": "MkcoQyedNjVL",
        "colab_type": "code",
        "colab": {}
      },
      "source": [
        "import pandas as pd\n",
        "import numpy as np\n",
        "import os\n",
        "from datetime import datetime,timedelta\n",
        "from sklearn.metrics import mean_squared_error\n",
        "from scipy.optimize import curve_fit\n",
        "from scipy.optimize import fsolve\n",
        "import matplotlib.pyplot as plt\n",
        "%matplotlib inline"
      ],
      "execution_count": 0,
      "outputs": []
    },
    {
      "cell_type": "markdown",
      "metadata": {
        "id": "_pYp2yQfNjVP",
        "colab_type": "text"
      },
      "source": [
        "Create file names"
      ]
    },
    {
      "cell_type": "code",
      "metadata": {
        "id": "o6gFBpdANjVQ",
        "colab_type": "code",
        "colab": {},
        "outputId": "95949d78-af01-40c9-efb9-1df672de1949"
      },
      "source": [
        "Date='2020-05-11'\n",
        "#the following variable has to be set to the date of the less up-to-date file\n",
        "toDate='2020-05-09'\n",
        "alreadyTested=1904+776 #this number from the field and samples\n",
        "\n",
        "path='/Users/euclide/SynologyDrive/Mac/HUGWork/HUGWork_2020-05-11/'\n",
        "files=os.listdir(path)\n",
        "dicFiles={\n",
        "    'RAPPELS':[],\n",
        "    'RENVOI':[],\n",
        "    'COURRIERS':[],\n",
        "    'bus-sante':[],\n",
        "    'pop_2':[],\n",
        "}\n",
        "#fill the dictionary\n",
        "for fil in files :\n",
        "    for key in dicFiles :\n",
        "        if key in fil :\n",
        "            dicFiles[key].append(path+fil) #to get the full path of the file\n",
        "            if key=='bus-sante' : #to get the name of the sheet\n",
        "                dicFiles[key].append('Appointments') \n",
        "            elif key=='pop_2' : #to get the name of the sheet\n",
        "                dicFiles[key].append('Sheet1') \n",
        "            else :\n",
        "                dicFiles[key].append(fil.split('.')[0]) \n",
        "print(dicFiles)"
      ],
      "execution_count": 0,
      "outputs": [
        {
          "output_type": "stream",
          "text": [
            "{'RAPPELS': ['/Users/euclide/SynologyDrive/Mac/HUGWork/HUGWork_2020-05-11/RAPPELS_11_MAI_2020.xlsx', 'RAPPELS_11_MAI_2020'], 'RENVOI': ['/Users/euclide/SynologyDrive/Mac/HUGWork/HUGWork_2020-05-11/RENVOIS_11_MAI_2020.xlsx', 'RENVOIS_11_MAI_2020'], 'COURRIERS': ['/Users/euclide/SynologyDrive/Mac/HUGWork/HUGWork_2020-05-11/COURRIERS_11_MAI_2020.xlsx', 'COURRIERS_11_MAI_2020'], 'bus-sante': ['/Users/euclide/SynologyDrive/Mac/HUGWork/HUGWork_2020-05-11/bus-sante.ch_appointments_2020-05-11.xlsx', 'Appointments'], 'pop_2': ['/Users/euclide/SynologyDrive/Mac/HUGWork/HUGWork_2020-05-11/pop_2_Final_allUpdated_2020-05-07_18h52.xlsx', 'Sheet1']}\n"
          ],
          "name": "stdout"
        }
      ]
    },
    {
      "cell_type": "markdown",
      "metadata": {
        "id": "ZWfFvpxaNjVU",
        "colab_type": "text"
      },
      "source": [
        "Create dfs: RAPPEL, COURRIERS, RENVOI, but-sante"
      ]
    },
    {
      "cell_type": "code",
      "metadata": {
        "id": "EesU1X6ENjVU",
        "colab_type": "code",
        "colab": {},
        "outputId": "a85c34b2-e4a8-4240-84df-ff4faa24f22c"
      },
      "source": [
        "print('Shape of the files the '+Date)\n",
        "df_rap = pd.read_excel(io=dicFiles['RAPPELS'][0], sheet_name=dicFiles['RAPPELS'][1],engine='xlrd')\n",
        "print('RAPPEL shape '+str(df_rap.shape))\n",
        "df_renv = pd.read_excel(io=dicFiles['RENVOI'][0], sheet_name=dicFiles['RENVOI'][1],engine='xlrd')\n",
        "print('RENVOI shape '+str(df_renv.shape))\n",
        "df_cour = pd.read_excel(io=dicFiles['COURRIERS'][0], sheet_name=dicFiles['COURRIERS'][1],engine='xlrd')\n",
        "print('COURRIERS shape '+str(df_cour.shape))\n",
        "df_agenda = pd.read_excel(io=dicFiles['bus-sante'][0], sheet_name=dicFiles['bus-sante'][1],engine='xlrd')\n",
        "print('AGENDA shape '+str(df_agenda.shape))\n",
        "df_pop = pd.read_excel(io=dicFiles['pop_2'][0], sheet_name=dicFiles['pop_2'][1],engine='xlrd')\n",
        "print('POP shape '+str(df_pop.shape))"
      ],
      "execution_count": 0,
      "outputs": [
        {
          "output_type": "stream",
          "text": [
            "Shape of the files the 2020-05-11\n",
            "RAPPEL shape (3703, 21)\n",
            "RENVOI shape (5950, 21)\n",
            "COURRIERS shape (7971, 22)\n",
            "AGENDA shape (2820, 28)\n",
            "POP shape (10577, 31)\n"
          ],
          "name": "stdout"
        }
      ]
    },
    {
      "cell_type": "markdown",
      "metadata": {
        "id": "NtJy9Gf5NjVX",
        "colab_type": "text"
      },
      "source": [
        "Make sure the dates are reported correctly"
      ]
    },
    {
      "cell_type": "code",
      "metadata": {
        "id": "v5saUvkTNjVX",
        "colab_type": "code",
        "colab": {}
      },
      "source": [
        "ReferenceDate='2020-05-01'\n",
        "#dateUpper='2020-06-30'+' 23:59:59'\n",
        "datetime_str = ReferenceDate+' 23:59:59'\n",
        "toDate_str= toDate+' 23:59:59'\n",
        "datetime_reference = datetime.strptime(datetime_str, '%Y-%m-%d %H:%M:%S')\n",
        "datetime_toDate    =    datetime.strptime(toDate_str, '%Y-%m-%d %H:%M:%S')\n",
        "df_agenda=df_agenda.sort_values(\"Date de début\")"
      ],
      "execution_count": 0,
      "outputs": []
    },
    {
      "cell_type": "code",
      "metadata": {
        "id": "FmMYp8JnNjVa",
        "colab_type": "code",
        "colab": {}
      },
      "source": [
        "df_renv['EmailSendingDate']=df_renv['EmailSendingDate'].apply(lambda x: datetime.strptime(x, '%d.%m.%Y'))\n",
        "df_rap['EmailSendingDate']=df_rap['EmailSendingDate'].apply(lambda x: datetime.strptime(x, '%d.%m.%Y'))\n",
        "df_cour['Date_Envoi_Courrier']=df_cour['Date_Envoi_Courrier'].apply(lambda x: x if x!=x else datetime.strptime(str(x).split(' ')[0], '%Y-%m-%d'))\n",
        "#df_renv['EmailSendingDate'].value_counts()"
      ],
      "execution_count": 0,
      "outputs": []
    },
    {
      "cell_type": "markdown",
      "metadata": {
        "id": "rOS9SxjMNjVd",
        "colab_type": "text"
      },
      "source": [
        "Select only the relevant period of time"
      ]
    },
    {
      "cell_type": "code",
      "metadata": {
        "id": "UXZqjkGdNjVd",
        "colab_type": "code",
        "colab": {},
        "outputId": "c5d13a05-370c-4f61-a777-944e6b9f1234"
      },
      "source": [
        "df_rap = df_rap[df_rap['EmailSendingDate']<=datetime_toDate]\n",
        "print('RAPPEL shape '+str(df_rap.shape))\n",
        "df_renv=df_renv[df_renv['EmailSendingDate']<=datetime_toDate]\n",
        "print('RENVOI shape '+str(df_renv.shape))\n",
        "df_cour=df_cour[df_cour['Date_Envoi_Courrier']<=datetime_toDate]\n",
        "print('COURRIERS shape '+str(df_cour.shape))\n",
        "df_renv['EmailSendingStatus'].value_counts()['Success']"
      ],
      "execution_count": 0,
      "outputs": [
        {
          "output_type": "stream",
          "text": [
            "RAPPEL shape (3703, 21)\n",
            "RENVOI shape (5950, 21)\n",
            "COURRIERS shape (2000, 22)\n"
          ],
          "name": "stdout"
        },
        {
          "output_type": "execute_result",
          "data": {
            "text/plain": [
              "5888"
            ]
          },
          "metadata": {
            "tags": []
          },
          "execution_count": 6
        }
      ]
    },
    {
      "cell_type": "markdown",
      "metadata": {
        "id": "57XJ_v05NjVh",
        "colab_type": "text"
      },
      "source": [
        "Coding functions"
      ]
    },
    {
      "cell_type": "code",
      "metadata": {
        "id": "zBgU8UDsNjVh",
        "colab_type": "code",
        "colab": {}
      },
      "source": [
        "def convertCodesToString(x) :\n",
        "    dicCodes={\n",
        "        '0.0' :'00',      \n",
        "        '1.0' :'01',\n",
        "        '2.0' :'02',\n",
        "        '8.0' :'08',\n",
        "        '9.0' :'09',\n",
        "        '10.0':'10',\n",
        "        '11.0':'11',\n",
        "        '19.0':'39',\n",
        "        '33.0':'00',\n",
        "        '35.0':'08',\n",
        "        '38.0':'38',\n",
        "        '39.0':'39',\n",
        "        '50.0':'50',\n",
        "        '80.0':'80',\n",
        "        '98.0':'98',\n",
        "        '99.0':'99',\n",
        "        \n",
        "        '11'  :'11',\n",
        "        '01'  :'01',\n",
        "        '98'  :'98',\n",
        "        '99'  :'99',\n",
        "         '1'  :'01',\n",
        "        '02'  :'02',\n",
        "        '00'  :'00',\n",
        "        '10'  :'10',\n",
        "        '09'  :'09',\n",
        "        '38'  :'38',\n",
        "        '39'  :'39',\n",
        "        '50'  :'50',\n",
        "        '80'  :'80',\n",
        "        '80.0':'80',\n",
        "        '13'  :'13',\n",
        "        '19'  :'39',\n",
        "        '12'  :'12',\n",
        "        'a rappeler':'a rappeler',\n",
        "        '08'  :'08',\n",
        "        '11(rappeler 29.04)': '11(rappeler 29.04)'\n",
        "    }\n",
        "    if x!=x :\n",
        "        return x\n",
        "    else :\n",
        "        return dicCodes[str(x)]\n",
        "    \n",
        "def CodesToDefinitios(x) :\n",
        "    dicCodes={\n",
        "        '00' : 'Refus de participer 00',\n",
        "        '01' : 'Mise à jour des contacts mails 01',\n",
        "        '11' : 'Contact impossible 11',\n",
        "        '02' : 'En attente de confirmation 02',\n",
        "        '39' : 'Déménagé hors du canton de Genève 39',\n",
        "        '38' : '38?',\n",
        "        '08' : 'Décès du participant 08',\n",
        "        '12' : 'Symptomatique, reconvocation dans 2 semaine 12',\n",
        "        '13' : 'COVID positif , reconvocation dans 2 semaine 13',\n",
        "        '49' : 'Ne peux répondre sous tutelle 49',\n",
        "        '50' : 'Malade ne pouvant se déplacer 50',\n",
        "        '10' : 'Venu ou pris RDV 10',\n",
        "        '09' : 'Mail, courriers non déservi 09',\n",
        "        '80' : 'a partir de 80 ans et ok pour participation à domicile 80',\n",
        "        '99' : \"Retours \\\"courriers\\\" pas d'adresse mail 99\",\n",
        "        '98' : 'A déjà participé en tant que personne vivant sous le même toit que … 98',\n",
        "        'a rappeler' : 'a rappeler',\n",
        "    }\n",
        "    if x!=x :\n",
        "        return x\n",
        "    else :\n",
        "        return dicCodes[str(x)]      "
      ],
      "execution_count": 0,
      "outputs": []
    },
    {
      "cell_type": "markdown",
      "metadata": {
        "id": "kdaBLg8INjVk",
        "colab_type": "text"
      },
      "source": [
        "Explore before conversions"
      ]
    },
    {
      "cell_type": "markdown",
      "metadata": {
        "id": "Kh60LC4RNjVk",
        "colab_type": "text"
      },
      "source": [
        "Apply the coding to all the relevant columns - For the moment I'm ignoring the Etat2"
      ]
    },
    {
      "cell_type": "code",
      "metadata": {
        "id": "n33KsvDpNjVl",
        "colab_type": "code",
        "colab": {}
      },
      "source": [
        "df_renv['Etat1_DeliveredStatus']=df_renv['Etat1_DeliveredStatus'].apply(lambda x: convertCodesToString(x))\n",
        "df_renv=df_renv.sort_values('Etat1_DeliveredStatus')\n",
        "df_rap['Etat1_Rappel']=df_rap['Etat1_Rappel'].apply(lambda x: convertCodesToString(x))\n",
        "df_rap=df_rap.sort_values('Etat1_Rappel')\n",
        "df_cour['Etat1_Courrier']=df_cour['Etat1_Courrier'].apply(lambda x: convertCodesToString(x))\n",
        "df_cour=df_cour.sort_values('Etat1_Courrier')\n",
        "\n",
        "df_renv['Etat1_DeliveredStatus_string']=df_renv['Etat1_DeliveredStatus'].apply(lambda x: CodesToDefinitios(x))\n",
        "df_rap['Etat1_Rappel_string']=df_rap['Etat1_Rappel'].apply(lambda x: CodesToDefinitios(x))\n",
        "df_cour['Etat1_Courrier_string']=df_cour['Etat1_Courrier'].apply(lambda x: CodesToDefinitios(x))"
      ],
      "execution_count": 0,
      "outputs": []
    },
    {
      "cell_type": "markdown",
      "metadata": {
        "id": "dAYk5_asNjVn",
        "colab_type": "text"
      },
      "source": [
        "Check if the intersection of the two files is equal to 0"
      ]
    },
    {
      "cell_type": "code",
      "metadata": {
        "id": "XR0WhfhxNjVo",
        "colab_type": "code",
        "colab": {},
        "outputId": "edb2118a-fe08-4ec4-9eff-43a1d1f5273b"
      },
      "source": [
        "df_renv['Etat1_DeliveredStatus_string'].value_counts()"
      ],
      "execution_count": 0,
      "outputs": [
        {
          "output_type": "execute_result",
          "data": {
            "text/plain": [
              "Mise à jour des contacts mails 01                                          427\n",
              "Contact impossible 11                                                      281\n",
              "Mail, courriers non déservi 09                                             192\n",
              "Déménagé hors du canton de Genève 39                                        25\n",
              "Refus de participer 00                                                      22\n",
              "Venu ou pris RDV 10                                                          4\n",
              "Décès du participant 08                                                      4\n",
              "Malade ne pouvant se déplacer 50                                             3\n",
              "A déjà participé en tant que personne vivant sous le même toit que … 98      1\n",
              "38?                                                                          1\n",
              "a partir de 80 ans et ok pour participation à domicile 80                    1\n",
              "Name: Etat1_DeliveredStatus_string, dtype: int64"
            ]
          },
          "metadata": {
            "tags": []
          },
          "execution_count": 9
        }
      ]
    },
    {
      "cell_type": "code",
      "metadata": {
        "id": "8kfcm9yANjVq",
        "colab_type": "code",
        "colab": {},
        "outputId": "342c833d-bef4-4669-e973-70955cc2eafa"
      },
      "source": [
        "df_rap['Etat1_Rappel_string'].value_counts()"
      ],
      "execution_count": 0,
      "outputs": [
        {
          "output_type": "execute_result",
          "data": {
            "text/plain": [
              "Contact impossible 11                                        396\n",
              "Mise à jour des contacts mails 01                            150\n",
              "En attente de confirmation 02                                 69\n",
              "Refus de participer 00                                        66\n",
              "Déménagé hors du canton de Genève 39                          16\n",
              "Venu ou pris RDV 10                                           11\n",
              "Mail, courriers non déservi 09                                 6\n",
              "Malade ne pouvant se déplacer 50                               5\n",
              "a partir de 80 ans et ok pour participation à domicile 80      3\n",
              "Symptomatique, reconvocation dans 2 semaine 12                 2\n",
              "a rappeler                                                     1\n",
              "COVID positif , reconvocation dans 2 semaine 13                1\n",
              "Décès du participant 08                                        1\n",
              "Name: Etat1_Rappel_string, dtype: int64"
            ]
          },
          "metadata": {
            "tags": []
          },
          "execution_count": 10
        }
      ]
    },
    {
      "cell_type": "code",
      "metadata": {
        "id": "_xYf0C9GNjVt",
        "colab_type": "code",
        "colab": {},
        "outputId": "f35c4fa2-bdd9-40a5-d892-0851e92709b0"
      },
      "source": [
        "df_cour['Etat1_Courrier_string'].value_counts()"
      ],
      "execution_count": 0,
      "outputs": [
        {
          "output_type": "execute_result",
          "data": {
            "text/plain": [
              "Contact impossible 11                                                      352\n",
              "Mise à jour des contacts mails 01                                          244\n",
              "Venu ou pris RDV 10                                                         19\n",
              "Décès du participant 08                                                      7\n",
              "Retours \"courriers\" pas d'adresse mail 99                                    6\n",
              "Malade ne pouvant se déplacer 50                                             4\n",
              "En attente de confirmation 02                                                4\n",
              "Refus de participer 00                                                       3\n",
              "Déménagé hors du canton de Genève 39                                         3\n",
              "A déjà participé en tant que personne vivant sous le même toit que … 98      1\n",
              "a partir de 80 ans et ok pour participation à domicile 80                    1\n",
              "Name: Etat1_Courrier_string, dtype: int64"
            ]
          },
          "metadata": {
            "tags": []
          },
          "execution_count": 11
        }
      ]
    },
    {
      "cell_type": "markdown",
      "metadata": {
        "id": "PLa3DcO7NjVv",
        "colab_type": "text"
      },
      "source": [
        "Now we can merge the code written for the 'agenda bus santé' \"task1\""
      ]
    },
    {
      "cell_type": "markdown",
      "metadata": {
        "id": "_UjHarlyNjVw",
        "colab_type": "text"
      },
      "source": [
        "Simple data cleaning of the Agenda df"
      ]
    },
    {
      "cell_type": "code",
      "metadata": {
        "id": "771ECZmkNjVw",
        "colab_type": "code",
        "colab": {},
        "outputId": "b43bbf13-751c-41d1-f214-9a1841501d3e"
      },
      "source": [
        "print(df_agenda.shape)\n",
        "df_agenda=df_agenda[df_agenda[\"Nom de l'auteur\"]!='Serge GRIBINSKII']\n",
        "print(df_agenda.shape)\n",
        "df_agenda=df_agenda[df_agenda[\"Nom de l'auteur\"]!='Eugene Lyulka']\n",
        "print(df_agenda.shape)\n",
        "df_agenda=df_agenda[df_agenda[\"Annulé\"]!='Annulé']\n",
        "print(df_agenda.shape)\n",
        "df_agenda=df_agenda[df_agenda[\"Codebar\"].notna()]\n",
        "df_agenda['Codebar']=df_agenda['Codebar'].apply(lambda x: int(x))\n",
        "print(df_agenda.shape)"
      ],
      "execution_count": 0,
      "outputs": [
        {
          "output_type": "stream",
          "text": [
            "(2820, 28)\n",
            "(2788, 28)\n",
            "(2773, 28)\n",
            "(2604, 28)\n",
            "(2536, 28)\n"
          ],
          "name": "stdout"
        }
      ]
    },
    {
      "cell_type": "markdown",
      "metadata": {
        "id": "FaIn6dm5NjV0",
        "colab_type": "text"
      },
      "source": [
        "Now I need to remove all the people from the volontaieres. To do it, I need to check in the pop_2 dataset."
      ]
    },
    {
      "cell_type": "code",
      "metadata": {
        "id": "SDypatUDNjV1",
        "colab_type": "code",
        "colab": {}
      },
      "source": [
        "df_pop_reduced=df_pop[df_pop['volontaire'].notna()]\n",
        "df_pop_reduced=df_pop_reduced[df_pop_reduced['codbar'].notna()]\n",
        "df_pop_reduced['codbar']=df_pop_reduced['codbar'].apply(lambda x: int(x))\n",
        "df_pop_reduced['volontaire']=df_pop_reduced['volontaire'].apply(lambda x: int(x))\n",
        "\n",
        "df_pop_reduced=df_pop_reduced[df_pop_reduced['volontaire']==1]\n",
        "#df_pop_volontaire=df_pop_volontaire.loc[:,['codbar','volontaire']]\n",
        "#df_pop_reduced.head()\n",
        "\n",
        "vol=df_pop_reduced['codbar'].tolist()\n",
        "def vlookup(x) :\n",
        "    if x in vol :\n",
        "        return False\n",
        "    else :\n",
        "        return True\n",
        "\n",
        "#df_agenda=df_agenda[df_agenda[\"Household_id\"].apply(lambda x: True if x!=x else vlookup(int(x)) )]\n",
        "#print(df_agenda.shape)"
      ],
      "execution_count": 0,
      "outputs": []
    },
    {
      "cell_type": "markdown",
      "metadata": {
        "id": "Nub0zp4-NjV3",
        "colab_type": "text"
      },
      "source": [
        "Create Household_id field"
      ]
    },
    {
      "cell_type": "code",
      "metadata": {
        "id": "XlYZ-KOcNjV4",
        "colab_type": "code",
        "colab": {}
      },
      "source": [
        "def create_households(x) :\n",
        "    listold=['11','21','31']\n",
        "    listold2=['410','411']\n",
        "    if len(str(x))==6 :\n",
        "        return str(x)\n",
        "    elif (any(c in str(x)[:2] for c in listold) and len(str(x))==7) :\n",
        "        return str(x)[:-1]\n",
        "    elif len(str(x))==8 :\n",
        "        return str(x)[:-1]\n",
        "    elif (any(c in str(x)[:3] for c in listold2) and len(str(x))==7) :\n",
        "        return str(x)[:-1]\n",
        "    else :\n",
        "        return str(x)\n",
        "df_agenda['Household_id']=df_agenda['Codebar'].apply(lambda x: create_households(int(x)))\n",
        "df_agenda['Family_size']=df_agenda['Household_id'].map(df_agenda['Household_id'].value_counts())"
      ],
      "execution_count": 0,
      "outputs": []
    },
    {
      "cell_type": "markdown",
      "metadata": {
        "id": "2TZ8C1GfNjV7",
        "colab_type": "text"
      },
      "source": [
        "Remove volontaires"
      ]
    },
    {
      "cell_type": "code",
      "metadata": {
        "id": "OIPm4bWHNjV7",
        "colab_type": "code",
        "colab": {},
        "outputId": "f832de8d-c064-4f9c-a78f-70dd6870bfab"
      },
      "source": [
        "df_agenda=df_agenda[df_agenda[\"Codebar\"].apply(lambda x: True if x!=x else vlookup(int(x)) )]\n",
        "print(df_agenda.shape)"
      ],
      "execution_count": 0,
      "outputs": [
        {
          "output_type": "stream",
          "text": [
            "(2473, 30)\n"
          ],
          "name": "stdout"
        }
      ]
    },
    {
      "cell_type": "markdown",
      "metadata": {
        "id": "_tdSrlbKNjV-",
        "colab_type": "text"
      },
      "source": [
        "Sort values by 'Mis à jour'"
      ]
    },
    {
      "cell_type": "code",
      "metadata": {
        "id": "mbtjQQX0NjV_",
        "colab_type": "code",
        "colab": {}
      },
      "source": [
        "df_agenda=df_agenda.sort_values(by=['Mis à jour'])"
      ],
      "execution_count": 0,
      "outputs": []
    },
    {
      "cell_type": "code",
      "metadata": {
        "id": "AHOOdo_ANjWB",
        "colab_type": "code",
        "colab": {},
        "outputId": "9fb2c627-2ffa-4e08-9d07-d62c991c13ee"
      },
      "source": [
        "df_agenda=df_agenda.drop_duplicates(subset='Codebar', keep='last')\n",
        "print(df_agenda.shape)"
      ],
      "execution_count": 0,
      "outputs": [
        {
          "output_type": "stream",
          "text": [
            "(2455, 30)\n"
          ],
          "name": "stdout"
        }
      ]
    },
    {
      "cell_type": "markdown",
      "metadata": {
        "id": "81rSEKYCNjWE",
        "colab_type": "text"
      },
      "source": [
        "Now we can count the unique Household_id"
      ]
    },
    {
      "cell_type": "code",
      "metadata": {
        "id": "IXyGr49_NjWE",
        "colab_type": "code",
        "colab": {},
        "outputId": "0ddb5ee1-6feb-4d10-d154-b2161edc9714"
      },
      "source": [
        "df_agenda['Household_id'].nunique()"
      ],
      "execution_count": 0,
      "outputs": [
        {
          "output_type": "execute_result",
          "data": {
            "text/plain": [
              "1863"
            ]
          },
          "metadata": {
            "tags": []
          },
          "execution_count": 18
        }
      ]
    },
    {
      "cell_type": "markdown",
      "metadata": {
        "id": "jyJA7W9lNjWG",
        "colab_type": "text"
      },
      "source": [
        "Make the final calculation based on the reference date"
      ]
    },
    {
      "cell_type": "markdown",
      "metadata": {
        "id": "hGxO9LrKNjWH",
        "colab_type": "text"
      },
      "source": [
        "Past situation until the 1st of May"
      ]
    },
    {
      "cell_type": "code",
      "metadata": {
        "id": "LUzhcqMjNjWH",
        "colab_type": "code",
        "colab": {},
        "outputId": "54f7c102-a142-44dc-aa62-f8025be667a2"
      },
      "source": [
        "df_past_first=df_agenda[df_agenda[\"Date de début\"]<=datetime_reference]\n",
        "patient0=df_past_first['Household_id'].nunique()\n",
        "total_tests=df_past_first.shape[0]\n",
        "familyMembers=5+df_past_first['Type'].value_counts()['moi et 1 personne']*1+df_past_first['Type'].value_counts()['moi et 2 personnes']*2+df_past_first['Type'].value_counts()['moi et 3 personnes']*3+df_past_first['Type'].value_counts()['moi et 4 personnes']*4\n",
        "\n",
        "print(\"From Bus Santé agenda - \"+ReferenceDate)\n",
        "print('Total samples       = '+str(total_tests+familyMembers))\n",
        "print('Patient-Zeros       = '+str(patient0))\n",
        "print('Family members      = '+str(familyMembers))\n",
        "#listHouseholdid_agenda=list(df_past['Household_id'].unique())\n",
        "df_past_first['Type'].value_counts()"
      ],
      "execution_count": 0,
      "outputs": [
        {
          "output_type": "stream",
          "text": [
            "From Bus Santé agenda - 2020-05-01\n",
            "Total samples       = 1891\n",
            "Patient-Zeros       = 916\n",
            "Family members      = 975\n"
          ],
          "name": "stdout"
        },
        {
          "output_type": "execute_result",
          "data": {
            "text/plain": [
              "moi                   375\n",
              "moi et 1 personne     278\n",
              "moi et 3 personnes    120\n",
              "moi et 2 personnes    112\n",
              "moi et 4 personnes     27\n",
              "NE PAS UTILISER         4\n",
              "Name: Type, dtype: int64"
            ]
          },
          "metadata": {
            "tags": []
          },
          "execution_count": 19
        }
      ]
    },
    {
      "cell_type": "markdown",
      "metadata": {
        "id": "u88HmdWTNjWK",
        "colab_type": "text"
      },
      "source": [
        "Past situation after the 1st of May "
      ]
    },
    {
      "cell_type": "code",
      "metadata": {
        "id": "zN3zihx4NjWK",
        "colab_type": "code",
        "colab": {},
        "outputId": "ff459755-dba9-4241-e006-5ace697e5fc6"
      },
      "source": [
        "df_past=df_agenda[(df_agenda[\"Date de début\"]<=datetime_toDate) & (df_agenda[\"Date de début\"]>datetime_reference)]\n",
        "patient0=df_past['Household_id'].nunique()\n",
        "total_tests=df_past.shape[0] #546\n",
        "#familyMembers=df_past['Type'].value_counts()['moi et 1 personne']*1+df_past['Type'].value_counts()['moi et 2 personnes']*2+df_past['Type'].value_counts()['moi et 3 personnes']*3+df_past['Type'].value_counts()['moi et 4 personnes']*4\n",
        "familyMembers=total_tests-patient0\n",
        "print(\"From Bus Santé agenda - 2020-05-02 to \"+toDate)\n",
        "print('Total samples       = '+str(total_tests))\n",
        "print('Patient-Zeros       = '+str(patient0))\n",
        "print('Family members      = '+str(familyMembers))\n",
        "#listHouseholdid_agenda=list(df_past['Household_id'].unique())\n",
        "df_past['Type'].value_counts()\n",
        "#df_past['Date de début no sec']=pd.to_datetime(df_past['Date de début']).dt.date\n",
        "#df_past['Date de début no sec'].value_counts()\n",
        "df_past['notMoi']=df_past.apply(lambda x: x.Family_size if x.Type=='moi' and x.Family_size>1 else 1, axis=1)\n",
        "df_past['notMoi2']=df_past.apply(lambda x: x.Family_size if x.Type=='moi et 1 personne' and x.Family_size!=2 else 2, axis=1)\n",
        "df_past['notMoi3']=df_past.apply(lambda x: x.Family_size if x.Type=='moi et 2 personnes' and x.Family_size!=3 else 3, axis=1)\n",
        "df_past['notMoi4']=df_past.apply(lambda x: x.Family_size if x.Type=='moi et 3 personnes' and x.Family_size!=4 else 4, axis=1)\n",
        "df_past['notMoi5']=df_past.apply(lambda x: x.Family_size if x.Type=='moi et 4 personnes' and x.Family_size!=5 else 5, axis=1)\n",
        "\n",
        "df_past.to_excel('/Users/euclide/SynologyDrive/Mac/HUGWork/nonsense.xlsx')\n"
      ],
      "execution_count": 0,
      "outputs": [
        {
          "output_type": "stream",
          "text": [
            "From Bus Santé agenda - 2020-05-02 to 2020-05-09\n",
            "Total samples       = 478\n",
            "Patient-Zeros       = 390\n",
            "Family members      = 88\n"
          ],
          "name": "stdout"
        },
        {
          "output_type": "stream",
          "text": [
            "/Users/euclide/anaconda3/lib/python3.7/site-packages/ipykernel_launcher.py:14: SettingWithCopyWarning: \n",
            "A value is trying to be set on a copy of a slice from a DataFrame.\n",
            "Try using .loc[row_indexer,col_indexer] = value instead\n",
            "\n",
            "See the caveats in the documentation: http://pandas.pydata.org/pandas-docs/stable/indexing.html#indexing-view-versus-copy\n",
            "  \n",
            "/Users/euclide/anaconda3/lib/python3.7/site-packages/ipykernel_launcher.py:15: SettingWithCopyWarning: \n",
            "A value is trying to be set on a copy of a slice from a DataFrame.\n",
            "Try using .loc[row_indexer,col_indexer] = value instead\n",
            "\n",
            "See the caveats in the documentation: http://pandas.pydata.org/pandas-docs/stable/indexing.html#indexing-view-versus-copy\n",
            "  from ipykernel import kernelapp as app\n",
            "/Users/euclide/anaconda3/lib/python3.7/site-packages/ipykernel_launcher.py:16: SettingWithCopyWarning: \n",
            "A value is trying to be set on a copy of a slice from a DataFrame.\n",
            "Try using .loc[row_indexer,col_indexer] = value instead\n",
            "\n",
            "See the caveats in the documentation: http://pandas.pydata.org/pandas-docs/stable/indexing.html#indexing-view-versus-copy\n",
            "  app.launch_new_instance()\n",
            "/Users/euclide/anaconda3/lib/python3.7/site-packages/ipykernel_launcher.py:17: SettingWithCopyWarning: \n",
            "A value is trying to be set on a copy of a slice from a DataFrame.\n",
            "Try using .loc[row_indexer,col_indexer] = value instead\n",
            "\n",
            "See the caveats in the documentation: http://pandas.pydata.org/pandas-docs/stable/indexing.html#indexing-view-versus-copy\n",
            "/Users/euclide/anaconda3/lib/python3.7/site-packages/ipykernel_launcher.py:18: SettingWithCopyWarning: \n",
            "A value is trying to be set on a copy of a slice from a DataFrame.\n",
            "Try using .loc[row_indexer,col_indexer] = value instead\n",
            "\n",
            "See the caveats in the documentation: http://pandas.pydata.org/pandas-docs/stable/indexing.html#indexing-view-versus-copy\n"
          ],
          "name": "stderr"
        }
      ]
    },
    {
      "cell_type": "code",
      "metadata": {
        "id": "tgSMrRLnNjWN",
        "colab_type": "code",
        "colab": {},
        "outputId": "12feea3c-1d90-4d15-90ce-78056d17dbff"
      },
      "source": [
        "df_past['Family_size'].value_counts()"
      ],
      "execution_count": 0,
      "outputs": [
        {
          "output_type": "execute_result",
          "data": {
            "text/plain": [
              "1    331\n",
              "2     70\n",
              "3     34\n",
              "4     32\n",
              "5     10\n",
              "6      1\n",
              "Name: Family_size, dtype: int64"
            ]
          },
          "metadata": {
            "tags": []
          },
          "execution_count": 21
        }
      ]
    },
    {
      "cell_type": "code",
      "metadata": {
        "id": "mSZ7tHUlNjWQ",
        "colab_type": "code",
        "colab": {},
        "outputId": "83228879-70eb-44ba-cd96-0036c3fbdd89"
      },
      "source": [
        "'''\n",
        "url_lab=\"/Users/euclide/SynologyDrive/Mac/HUGWork/HUGWork_2020-05-11/2020.05.07_lab_update.xls\"\n",
        "df_lab = pd.read_excel(io=url_lab, sheet_name='Sheet1')\n",
        "#df_lab=df_lab[df_lab['volontaire']==0]\n",
        "total_tests=df_lab.shape[0]\n",
        "df_lab['Household_codbar']=df_lab['Codbar'].apply(lambda x: create_households(int(x)))\n",
        "df_lab['Household_codbar']=df_lab['Household_codbar'].apply(lambda x: str(x))\n",
        "patient0=df_lab['Household_codbar'].nunique()\n",
        "familyMembers=total_tests-patient0\n",
        "#listHouseholdid_lab=list(df_lab['Households_codbar'].unique())\n",
        "print('Total samples       = '+str(total_tests))\n",
        "print('Patient-Zeros       = '+str(patient0))\n",
        "print('Family members      = '+str(familyMembers))\n",
        "#df_lab.head()\n",
        "'''"
      ],
      "execution_count": 0,
      "outputs": [
        {
          "output_type": "execute_result",
          "data": {
            "text/plain": [
              "'\\nurl_lab=\"/Users/euclide/SynologyDrive/Mac/HUGWork/HUGWork_2020-05-11/2020.05.07_lab_update.xls\"\\ndf_lab = pd.read_excel(io=url_lab, sheet_name=\\'Sheet1\\')\\n#df_lab=df_lab[df_lab[\\'volontaire\\']==0]\\ntotal_tests=df_lab.shape[0]\\ndf_lab[\\'Household_codbar\\']=df_lab[\\'Codbar\\'].apply(lambda x: create_households(int(x)))\\ndf_lab[\\'Household_codbar\\']=df_lab[\\'Household_codbar\\'].apply(lambda x: str(x))\\npatient0=df_lab[\\'Household_codbar\\'].nunique()\\nfamilyMembers=total_tests-patient0\\n#listHouseholdid_lab=list(df_lab[\\'Households_codbar\\'].unique())\\nprint(\\'Total samples       = \\'+str(total_tests))\\nprint(\\'Patient-Zeros       = \\'+str(patient0))\\nprint(\\'Family members      = \\'+str(familyMembers))\\n#df_lab.head()\\n'"
            ]
          },
          "metadata": {
            "tags": []
          },
          "execution_count": 22
        }
      ]
    },
    {
      "cell_type": "code",
      "metadata": {
        "id": "vGLXZZvlNjWS",
        "colab_type": "code",
        "colab": {},
        "outputId": "e0edbaab-9360-4276-f72f-380db0da7fac"
      },
      "source": [
        "546-285"
      ],
      "execution_count": 0,
      "outputs": [
        {
          "output_type": "execute_result",
          "data": {
            "text/plain": [
              "261"
            ]
          },
          "metadata": {
            "tags": []
          },
          "execution_count": 23
        }
      ]
    },
    {
      "cell_type": "code",
      "metadata": {
        "id": "134Y--AWNjWV",
        "colab_type": "code",
        "colab": {},
        "outputId": "8c8a81a8-2b3c-428b-96aa-4ae824653d6c"
      },
      "source": [
        "df_future=df_agenda[df_agenda[\"Date de début\"]>datetime_toDate]\n",
        "patient0=df_future['Household_id'].nunique()\n",
        "total_tests=df_future.shape[0]\n",
        "familyMembers=total_tests-patient0\n",
        "print(\"From Bus Santé agenda - after \"+toDate)\n",
        "print('Total samples       = '+str(total_tests))\n",
        "print('Patient-Zeros       = '+str(patient0))\n",
        "print('Family members      = '+str(familyMembers))"
      ],
      "execution_count": 0,
      "outputs": [
        {
          "output_type": "stream",
          "text": [
            "From Bus Santé agenda - after 2020-05-09\n",
            "Total samples       = 1061\n",
            "Patient-Zeros       = 559\n",
            "Family members      = 502\n"
          ],
          "name": "stdout"
        }
      ]
    },
    {
      "cell_type": "markdown",
      "metadata": {
        "id": "bOI_q3WENjWX",
        "colab_type": "text"
      },
      "source": [
        "Now we need to check that all the members of the same household reserved the test for the same day"
      ]
    },
    {
      "cell_type": "code",
      "metadata": {
        "id": "M3-Pe0OiNjWX",
        "colab_type": "code",
        "colab": {}
      },
      "source": [
        "df_agenda['date']=pd.to_datetime(df_agenda['Date de début']).dt.date\n",
        "#df_agenda=df_agenda.sort_values(by=['Household_id'])\n",
        "df_agenda['support_codbar']=df_agenda.apply(lambda x: str(x.Codebar)+'0' if str(x.Codebar)==str(x.Household_id) else str(x.Codebar), axis=1)\n",
        "df_agenda=df_agenda.sort_values(by=['support_codbar'])\n",
        "\n",
        "def createSupportingFields(listColumns,df) :\n",
        "    temp=''\n",
        "    suppDic={}\n",
        "    for col in listColumns :\n",
        "        suppDic[col]={'list':[],'suppVar':''}\n",
        "        \n",
        "        for index, row in df.iterrows():\n",
        "            temp=row['Household_id']\n",
        "            if str(int(row['Codebar']))==str(temp) :\n",
        "\n",
        "                suppDic[col]['suppVar']=row[col]\n",
        "                suppDic[col]['list'].append(suppDic[col]['suppVar'])\n",
        "\n",
        "            elif str(temp)==str(int(row['Codebar']))[:-1] :\n",
        "                suppDic[col]['list'].append(suppDic[col]['suppVar'])\n",
        "                \n",
        "\n",
        "        df['Household_'+col]=suppDic[col]['list']\n",
        "\n",
        "listColumns=[\n",
        "    'date'   \n",
        "]\n",
        "createSupportingFields(listColumns,df_agenda)\n",
        "df_agenda['Different_date']=df_agenda.apply(lambda x: False if x.Household_date==x.date else True, axis=1)\n",
        "df_agenda[df_agenda['Different_date']].to_excel(\"/Users/euclide/SynologyDrive/Mac/HUGWork/households_with_differentDates.xlsx\")"
      ],
      "execution_count": 0,
      "outputs": []
    },
    {
      "cell_type": "code",
      "metadata": {
        "id": "jInDddZnNjWZ",
        "colab_type": "code",
        "colab": {}
      },
      "source": [
        "Until1105=776"
      ],
      "execution_count": 0,
      "outputs": []
    },
    {
      "cell_type": "code",
      "metadata": {
        "id": "Qa4cDyRVNjWc",
        "colab_type": "code",
        "colab": {},
        "outputId": "338cb9f6-dc0c-4f16-dca4-9aa9fbe2fd0a"
      },
      "source": [
        "Mail_envoyés=df_renv['EmailSendingStatus'].value_counts()['Success']+df_cour['Etat1_Courrier'].value_counts()['01']\n",
        "print(Mail_envoyés)"
      ],
      "execution_count": 0,
      "outputs": [
        {
          "output_type": "stream",
          "text": [
            "6132\n"
          ],
          "name": "stdout"
        }
      ]
    },
    {
      "cell_type": "code",
      "metadata": {
        "id": "aw2Fg7uhNjWf",
        "colab_type": "code",
        "colab": {},
        "outputId": "2291dde8-a635-4aee-de8b-3dea851fd0ee"
      },
      "source": [
        "Mail_pas_livrés=df_renv['EmailSendingStatus'].value_counts()['Error']+df_renv['Etat1_DeliveredStatus'].value_counts()['11']+df_rap['Etat1_Rappel'].value_counts()['11']\n",
        "print(Mail_pas_livrés)"
      ],
      "execution_count": 0,
      "outputs": [
        {
          "output_type": "stream",
          "text": [
            "739\n"
          ],
          "name": "stdout"
        }
      ]
    },
    {
      "cell_type": "code",
      "metadata": {
        "id": "pFTmX9t5NjWh",
        "colab_type": "code",
        "colab": {}
      },
      "source": [
        "Mail_livrés=Mail_envoyés-Mail_pas_livrés"
      ],
      "execution_count": 0,
      "outputs": []
    },
    {
      "cell_type": "code",
      "metadata": {
        "id": "ps2CE3URNjWj",
        "colab_type": "code",
        "colab": {},
        "outputId": "9ee33cd9-2c93-42f7-e8b7-b26c1e1d675a"
      },
      "source": [
        "print(Mail_livrés)"
      ],
      "execution_count": 0,
      "outputs": [
        {
          "output_type": "stream",
          "text": [
            "5393\n"
          ],
          "name": "stdout"
        }
      ]
    },
    {
      "cell_type": "code",
      "metadata": {
        "id": "dtazeWBfNjWm",
        "colab_type": "code",
        "colab": {},
        "outputId": "d4994a06-d45e-4ebf-b34f-3a238b4af635"
      },
      "source": [
        "alreadyTested_PatientsZeroPast=df_past['Household_id'].nunique()+df_past_first['Household_id'].nunique()\n",
        "#alreadyTested\n",
        "PatientsZeroFuture=df_future['Household_id'].nunique()\n",
        "Status_positif=PatientsZeroFuture+alreadyTested_PatientsZeroPast  #alreadyTested+PatientsZeroFuture\n",
        "print(Status_positif)"
      ],
      "execution_count": 0,
      "outputs": [
        {
          "output_type": "stream",
          "text": [
            "1865\n"
          ],
          "name": "stdout"
        }
      ]
    },
    {
      "cell_type": "code",
      "metadata": {
        "id": "-NP5Mm2VNjWo",
        "colab_type": "code",
        "colab": {},
        "outputId": "f918797e-6b81-42e4-e4c2-b72901474792"
      },
      "source": [
        "print(alreadyTested_PatientsZeroPast)"
      ],
      "execution_count": 0,
      "outputs": [
        {
          "output_type": "stream",
          "text": [
            "1306\n"
          ],
          "name": "stdout"
        }
      ]
    },
    {
      "cell_type": "code",
      "metadata": {
        "id": "7NjuIOCTNjWs",
        "colab_type": "code",
        "colab": {},
        "outputId": "6c9fce39-ea3a-4411-a128-88f77a6ee1f3"
      },
      "source": [
        "print(PatientsZeroFuture)"
      ],
      "execution_count": 0,
      "outputs": [
        {
          "output_type": "stream",
          "text": [
            "559\n"
          ],
          "name": "stdout"
        }
      ]
    },
    {
      "cell_type": "code",
      "metadata": {
        "id": "PzURdR0vNjWw",
        "colab_type": "code",
        "colab": {},
        "outputId": "61410743-4780-456f-d5b5-5d4ca3f118ab"
      },
      "source": [
        "Exclus_Refus=df_renv['Etat1_DeliveredStatus'].value_counts()['00']+df_rap['Etat1_Rappel'].value_counts()['00']\n",
        "print(Exclus_Refus)"
      ],
      "execution_count": 0,
      "outputs": [
        {
          "output_type": "stream",
          "text": [
            "88\n"
          ],
          "name": "stdout"
        }
      ]
    },
    {
      "cell_type": "code",
      "metadata": {
        "id": "lZP8yR2mNjWy",
        "colab_type": "code",
        "colab": {},
        "outputId": "0b83e301-41d6-4ff7-98fc-e6d1d86d2e79"
      },
      "source": [
        "Exclus_NonEl=df_renv['Etat1_DeliveredStatus'].value_counts()['39']+df_rap['Etat1_Rappel'].value_counts()['39']+df_renv['Etat1_DeliveredStatus'].value_counts()['08']+df_rap['Etat1_Rappel'].value_counts()['08']\n",
        "print(Exclus_NonEl)\n"
      ],
      "execution_count": 0,
      "outputs": [
        {
          "output_type": "stream",
          "text": [
            "46\n"
          ],
          "name": "stdout"
        }
      ]
    },
    {
      "cell_type": "code",
      "metadata": {
        "id": "q_Q_on6jNjW1",
        "colab_type": "code",
        "colab": {},
        "outputId": "2110a3a7-7782-4280-ff8c-8fb46318375b"
      },
      "source": [
        "Exclus_Tot=Exclus_Refus+Exclus_NonEl\n",
        "print(Exclus_Tot)"
      ],
      "execution_count": 0,
      "outputs": [
        {
          "output_type": "stream",
          "text": [
            "134\n"
          ],
          "name": "stdout"
        }
      ]
    },
    {
      "cell_type": "code",
      "metadata": {
        "id": "9T1d7XmwNjW4",
        "colab_type": "code",
        "colab": {},
        "outputId": "92f4d755-5324-4bae-9f0c-be610b1dafe9"
      },
      "source": [
        "En_cours=Mail_livrés-alreadyTested_PatientsZeroPast-PatientsZeroFuture-Exclus_Tot\n",
        "print(En_cours)"
      ],
      "execution_count": 0,
      "outputs": [
        {
          "output_type": "stream",
          "text": [
            "3394\n"
          ],
          "name": "stdout"
        }
      ]
    },
    {
      "cell_type": "code",
      "metadata": {
        "id": "TRoSrt1BNjW6",
        "colab_type": "code",
        "colab": {},
        "outputId": "750ca12e-090e-4d85-c40c-529cb26bca9c"
      },
      "source": [
        "accompagnants=alreadyTested-alreadyTested_PatientsZeroPast\n",
        "print(alreadyTested)\n",
        "print(alreadyTested_PatientsZeroPast)\n",
        "print(accompagnants)"
      ],
      "execution_count": 0,
      "outputs": [
        {
          "output_type": "stream",
          "text": [
            "2680\n",
            "1306\n",
            "1374\n"
          ],
          "name": "stdout"
        }
      ]
    },
    {
      "cell_type": "code",
      "metadata": {
        "id": "uf3Ln6aUNjW9",
        "colab_type": "code",
        "colab": {},
        "outputId": "7c8cbe4c-88f7-42af-e3d8-1e873e953ada"
      },
      "source": [
        "Status_positif+En_cours+Exclus_Tot==Mail_livrés"
      ],
      "execution_count": 0,
      "outputs": [
        {
          "output_type": "execute_result",
          "data": {
            "text/plain": [
              "True"
            ]
          },
          "metadata": {
            "tags": []
          },
          "execution_count": 39
        }
      ]
    },
    {
      "cell_type": "code",
      "metadata": {
        "id": "pbTdiFMJNjW_",
        "colab_type": "code",
        "colab": {},
        "outputId": "8e8c6698-4f86-4dba-a26b-02fb4e465ce0"
      },
      "source": [
        "messageText='''\n",
        "Chères toutes, chers tous,\n",
        "Je vous envoie l’état-de-lieu du recrutement au '''+str(toDate)+''', 23h59 , comme on est sur que ça fait du bien de voir les bons résultats de votre travail des dernières semaines. \n",
        "La situation est le suivant:\n",
        "\n",
        "Mail envoyés : '''+str(Mail_envoyés)+''' \n",
        "Mail pas livrés : '''+str(Mail_pas_livrés)+''' -> '''+str(round(100*Mail_pas_livrés/Mail_envoyés,2))+''' %\n",
        "Mail livrés : '''+str(Mail_livrés)+''' —> '''+str(round(100*Mail_livrés/Mail_envoyés,2))+''' %\n",
        "\n",
        "    dont (pourcentage calculé sur le total de '''+str(Mail_livrés)+''' mail livrés)\n",
        "Status positif: '''+str(Status_positif)+''' -> '''+str(round(100*Status_positif/Mail_livrés,2))+''' %\n",
        "    Déjà testés : '''+str(alreadyTested_PatientsZeroPast)+'''\n",
        "    Dans l’agenda : '''+str(PatientsZeroFuture)+'''\n",
        "Exclus: '''+str(Exclus_Tot)+''' —> '''+str(round(100*Exclus_Tot/Mail_livrés,2))+''' %\n",
        "    Refus de participer:  '''+str(Exclus_Refus)+'''\n",
        "    Non eligible:         '''+str(Exclus_NonEl)+'''\n",
        "En cours: '''+str(En_cours)+''' —> '''+str(round(100*En_cours/Mail_livrés,2))+''' %\n",
        "Le total des personnes testées est de '''+str(alreadyTested_PatientsZeroPast)+''' patients zero + '''+str(accompagnants)+'''  accompagnants = '''+str(alreadyTested)+'''\n",
        "\n",
        "Merci pour le superbe boulot et très bonne journée!\n",
        "\n",
        "'''\n",
        "\n",
        "#print('Summary at '+toDate)\n",
        "print(messageText)\n"
      ],
      "execution_count": 0,
      "outputs": [
        {
          "output_type": "stream",
          "text": [
            "\n",
            "Chères toutes, chers tous,\n",
            "Je vous envoie l’état-de-lieu du recrutement au 2020-05-09, 23h59 , comme on est sur que ça fait du bien de voir les bons résultats de votre travail des dernières semaines. \n",
            "La situation est le suivant:\n",
            "\n",
            "Mail envoyés : 6132 \n",
            "Mail pas livrés : 739 -> 12.05 %\n",
            "Mail livrés : 5393 —> 87.95 %\n",
            "\n",
            "    dont (pourcentage calculé sur le total de 5393 mail livrés)\n",
            "Status positif: 1865 -> 34.58 %\n",
            "    Déjà testés : 1306\n",
            "    Dans l’agenda : 559\n",
            "Exclus: 134 —> 2.48 %\n",
            "    Refus de participer:  88\n",
            "    Non eligible:         46\n",
            "En cours: 3394 —> 62.93 %\n",
            "Le total des personnes testées est de 1306 patients zero + 1374  accompagnants = 2680\n",
            "\n",
            "Merci pour le superbe boulot et très bonne journée!\n",
            "\n",
            "\n"
          ],
          "name": "stdout"
        }
      ]
    },
    {
      "cell_type": "code",
      "metadata": {
        "id": "ka4hAPsoNjXC",
        "colab_type": "code",
        "colab": {}
      },
      "source": [
        ""
      ],
      "execution_count": 0,
      "outputs": []
    }
  ]
}